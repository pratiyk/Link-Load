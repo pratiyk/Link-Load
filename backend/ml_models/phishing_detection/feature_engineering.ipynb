{
 "cells": [
  {
   "cell_type": "markdown",
   "id": "b5d96e43",
   "metadata": {},
   "source": [
    "# Feature Engineering"
   ]
  },
  {
   "cell_type": "code",
   "execution_count": 4,
   "id": "a0fef5e8",
   "metadata": {},
   "outputs": [
    {
     "name": "stdout",
     "output_type": "stream",
     "text": [
      "Requirement already satisfied: tqdm in c:\\python312\\lib\\site-packages (4.66.5)\n",
      "Requirement already satisfied: colorama in c:\\python312\\lib\\site-packages (from tqdm) (0.4.6)\n",
      "Note: you may need to restart the kernel to use updated packages.\n"
     ]
    },
    {
     "name": "stderr",
     "output_type": "stream",
     "text": [
      "WARNING: Ignoring invalid distribution ~ip (c:\\Python312\\Lib\\site-packages)\n",
      "DEPRECATION: Loading egg at c:\\python312\\lib\\site-packages\\vboxapi-1.0-py3.12.egg is deprecated. pip 25.1 will enforce this behaviour change. A possible replacement is to use pip for package installation. Discussion can be found at https://github.com/pypa/pip/issues/12330\n",
      "WARNING: Ignoring invalid distribution ~ip (c:\\Python312\\Lib\\site-packages)\n",
      "WARNING: Ignoring invalid distribution ~ip (c:\\Python312\\Lib\\site-packages)\n",
      "\n",
      "[notice] A new release of pip is available: 24.3.1 -> 25.1.1\n",
      "[notice] To update, run: python.exe -m pip install --upgrade pip\n"
     ]
    }
   ],
   "source": [
    "pip install tqdm"
   ]
  },
  {
   "cell_type": "code",
   "execution_count": 2,
   "id": "b8f2bace",
   "metadata": {},
   "outputs": [
    {
     "name": "stdout",
     "output_type": "stream",
     "text": [
      "Note: you may need to restart the kernel to use updated packages.Requirement already satisfied: tldextract in c:\\python312\\lib\\site-packages (5.1.2)\n",
      "Requirement already satisfied: python-whois in c:\\python312\\lib\\site-packages (0.9.5)\n",
      "Requirement already satisfied: idna in c:\\python312\\lib\\site-packages (from tldextract) (3.7)\n",
      "Requirement already satisfied: requests>=2.1.0 in c:\\python312\\lib\\site-packages (from tldextract) (2.31.0)\n",
      "Requirement already satisfied: requests-file>=1.4 in c:\\python312\\lib\\site-packages (from tldextract) (2.0.0)\n",
      "Requirement already satisfied: filelock>=3.0.8 in c:\\users\\sendt\\appdata\\roaming\\python\\python312\\site-packages (from tldextract) (3.13.4)\n",
      "Requirement already satisfied: python-dateutil in c:\\users\\sendt\\appdata\\roaming\\python\\python312\\site-packages (from python-whois) (2.9.0.post0)\n",
      "Requirement already satisfied: charset-normalizer<4,>=2 in c:\\users\\sendt\\appdata\\roaming\\python\\python312\\site-packages (from requests>=2.1.0->tldextract) (3.3.2)\n",
      "Requirement already satisfied: urllib3<3,>=1.21.1 in c:\\python312\\lib\\site-packages (from requests>=2.1.0->tldextract) (2.2.1)\n",
      "Requirement already satisfied: certifi>=2017.4.17 in c:\\python312\\lib\\site-packages (from requests>=2.1.0->tldextract) (2024.2.2)\n",
      "Requirement already satisfied: six>=1.5 in c:\\python312\\lib\\site-packages (from python-dateutil->python-whois) (1.16.0)\n",
      "\n"
     ]
    },
    {
     "name": "stderr",
     "output_type": "stream",
     "text": [
      "WARNING: Ignoring invalid distribution ~ip (c:\\Python312\\Lib\\site-packages)\n",
      "DEPRECATION: Loading egg at c:\\python312\\lib\\site-packages\\vboxapi-1.0-py3.12.egg is deprecated. pip 25.1 will enforce this behaviour change. A possible replacement is to use pip for package installation. Discussion can be found at https://github.com/pypa/pip/issues/12330\n",
      "WARNING: Ignoring invalid distribution ~ip (c:\\Python312\\Lib\\site-packages)\n",
      "WARNING: Ignoring invalid distribution ~ip (c:\\Python312\\Lib\\site-packages)\n",
      "\n",
      "[notice] A new release of pip is available: 24.3.1 -> 25.1.1\n",
      "[notice] To update, run: python.exe -m pip install --upgrade pip\n"
     ]
    }
   ],
   "source": [
    "pip install tldextract python-whois"
   ]
  },
  {
   "cell_type": "code",
   "execution_count": 9,
   "id": "8f985c25",
   "metadata": {},
   "outputs": [
    {
     "name": "stderr",
     "output_type": "stream",
     "text": [
      "  4%|▍         | 4326/105062 [2:33:45<7250:36:41, 259.11s/it] "
     ]
    },
    {
     "name": "stdout",
     "output_type": "stream",
     "text": [
      "WHOIS API error for roblox.tg (attempt 1): ('Connection aborted.', RemoteDisconnected('Remote end closed connection without response'))\n"
     ]
    },
    {
     "name": "stderr",
     "output_type": "stream",
     "text": [
      "  4%|▍         | 4683/105062 [2:44:51<57:09:29,  2.05s/it]   "
     ]
    },
    {
     "name": "stdout",
     "output_type": "stream",
     "text": [
      "WHOIS API error for bedroomsandmore.com (attempt 1): HTTPSConnectionPool(host='www.whoisxmlapi.com', port=443): Read timed out. (read timeout=30)\n"
     ]
    },
    {
     "name": "stderr",
     "output_type": "stream",
     "text": [
      "  7%|▋         | 7788/105062 [4:19:09<43:57:57,  1.63s/it] "
     ]
    },
    {
     "name": "stdout",
     "output_type": "stream",
     "text": [
      "WHOIS API error for eve-centrala.com.pl (attempt 1): HTTPSConnectionPool(host='www.whoisxmlapi.com', port=443): Read timed out. (read timeout=30)\n"
     ]
    },
    {
     "name": "stderr",
     "output_type": "stream",
     "text": [
      "  9%|▉         | 9545/105062 [5:11:24<45:54:26,  1.73s/it] "
     ]
    },
    {
     "name": "stdout",
     "output_type": "stream",
     "text": [
      "WHOIS API error for wixsite.com (attempt 1): HTTPSConnectionPool(host='www.whoisxmlapi.com', port=443): Read timed out. (read timeout=30)\n"
     ]
    },
    {
     "name": "stderr",
     "output_type": "stream",
     "text": [
      " 13%|█▎        | 13960/105062 [7:24:35<45:24:35,  1.79s/it] "
     ]
    },
    {
     "name": "stdout",
     "output_type": "stream",
     "text": [
      "WHOIS API error for adobe.com (attempt 1): HTTPSConnectionPool(host='www.whoisxmlapi.com', port=443): Read timed out. (read timeout=30)\n"
     ]
    },
    {
     "name": "stderr",
     "output_type": "stream",
     "text": [
      " 14%|█▍        | 14849/105062 [7:52:27<38:56:48,  1.55s/it] "
     ]
    },
    {
     "name": "stdout",
     "output_type": "stream",
     "text": [
      "WHOIS API error for erstekinderbetreuung.de (attempt 1): HTTPSConnectionPool(host='www.whoisxmlapi.com', port=443): Read timed out. (read timeout=30)\n"
     ]
    },
    {
     "name": "stderr",
     "output_type": "stream",
     "text": [
      " 16%|█▌        | 17030/105062 [8:55:04<41:17:23,  1.69s/it] "
     ]
    },
    {
     "name": "stdout",
     "output_type": "stream",
     "text": [
      "WHOIS API error for duckdns.org (attempt 1): ('Connection aborted.', ConnectionAbortedError(10053, 'An established connection was aborted by the software in your host machine', None, 10053, None))\n",
      "WHOIS API error for duckdns.org (attempt 2): HTTPSConnectionPool(host='www.whoisxmlapi.com', port=443): Max retries exceeded with url: /whoisserver/WhoisService?apiKey=32850693e79c4e1291e441e8f4d09707&domainName=duckdns.org&outputFormat=JSON (Caused by NewConnectionError('<urllib3.connection.HTTPSConnection object at 0x0000028DDCEEC050>: Failed to establish a new connection: [WinError 10051] A socket operation was attempted to an unreachable network'))\n"
     ]
    },
    {
     "name": "stderr",
     "output_type": "stream",
     "text": [
      " 16%|█▌        | 17031/105062 [17:30:01<226687:08:41, 9270.30s/it]"
     ]
    },
    {
     "name": "stdout",
     "output_type": "stream",
     "text": [
      "WHOIS API error for duckdns.org (attempt 3): HTTPSConnectionPool(host='www.whoisxmlapi.com', port=443): Max retries exceeded with url: /whoisserver/WhoisService?apiKey=32850693e79c4e1291e441e8f4d09707&domainName=duckdns.org&outputFormat=JSON (Caused by NameResolutionError(\"<urllib3.connection.HTTPSConnection object at 0x0000028DDCEEE810>: Failed to resolve 'www.whoisxmlapi.com' ([Errno 11001] getaddrinfo failed)\"))\n",
      "WHOIS API error for google.com (attempt 1): HTTPSConnectionPool(host='www.whoisxmlapi.com', port=443): Max retries exceeded with url: /whoisserver/WhoisService?apiKey=32850693e79c4e1291e441e8f4d09707&domainName=google.com&outputFormat=JSON (Caused by NameResolutionError(\"<urllib3.connection.HTTPSConnection object at 0x0000028DDCEEC0E0>: Failed to resolve 'www.whoisxmlapi.com' ([Errno 11001] getaddrinfo failed)\"))\n"
     ]
    },
    {
     "name": "stderr",
     "output_type": "stream",
     "text": [
      " 17%|█▋        | 17429/105062 [17:43:23<37:32:29,  1.54s/it]      "
     ]
    },
    {
     "name": "stdout",
     "output_type": "stream",
     "text": [
      "WHOIS API error for web.app (attempt 1): HTTPSConnectionPool(host='www.whoisxmlapi.com', port=443): Max retries exceeded with url: /whoisserver/WhoisService?apiKey=32850693e79c4e1291e441e8f4d09707&domainName=web.app&outputFormat=JSON (Caused by SSLError(SSLEOFError(8, '[SSL: UNEXPECTED_EOF_WHILE_READING] EOF occurred in violation of protocol (_ssl.c:1000)')))\n"
     ]
    },
    {
     "name": "stderr",
     "output_type": "stream",
     "text": [
      " 17%|█▋        | 17996/105062 [19:18:54<27119:22:11, 1121.33s/it]"
     ]
    },
    {
     "name": "stdout",
     "output_type": "stream",
     "text": [
      "WHOIS API error for navoco.de (attempt 1): HTTPSConnectionPool(host='www.whoisxmlapi.com', port=443): Max retries exceeded with url: /whoisserver/WhoisService?apiKey=32850693e79c4e1291e441e8f4d09707&domainName=navoco.de&outputFormat=JSON (Caused by SSLError(SSLEOFError(8, '[SSL: UNEXPECTED_EOF_WHILE_READING] EOF occurred in violation of protocol (_ssl.c:1000)')))\n",
      "WHOIS API error for navoco.de (attempt 2): ('Connection aborted.', ConnectionAbortedError(10053, 'An established connection was aborted by the software in your host machine', None, 10053, None))\n"
     ]
    },
    {
     "name": "stderr",
     "output_type": "stream",
     "text": [
      " 17%|█▋        | 17997/105062 [19:46:52<31155:26:36, 1288.23s/it]"
     ]
    },
    {
     "name": "stdout",
     "output_type": "stream",
     "text": [
      "WHOIS API error for navoco.de (attempt 3): HTTPSConnectionPool(host='www.whoisxmlapi.com', port=443): Max retries exceeded with url: /whoisserver/WhoisService?apiKey=32850693e79c4e1291e441e8f4d09707&domainName=navoco.de&outputFormat=JSON (Caused by NewConnectionError('<urllib3.connection.HTTPSConnection object at 0x0000028DDCEEE180>: Failed to establish a new connection: [WinError 10051] A socket operation was attempted to an unreachable network'))\n",
      "WHOIS API error for mywebselfsite.net (attempt 1): HTTPSConnectionPool(host='www.whoisxmlapi.com', port=443): Max retries exceeded with url: /whoisserver/WhoisService?apiKey=32850693e79c4e1291e441e8f4d09707&domainName=mywebselfsite.net&outputFormat=JSON (Caused by NewConnectionError('<urllib3.connection.HTTPSConnection object at 0x0000028DDCEEE3C0>: Failed to establish a new connection: [WinError 10051] A socket operation was attempted to an unreachable network'))\n"
     ]
    },
    {
     "name": "stderr",
     "output_type": "stream",
     "text": [
      " 18%|█▊        | 19361/105062 [22:03:02<49:59:30,  2.10s/it]     "
     ]
    },
    {
     "name": "stdout",
     "output_type": "stream",
     "text": [
      "WHOIS API error for wixsite.com (attempt 1): HTTPSConnectionPool(host='www.whoisxmlapi.com', port=443): Read timed out. (read timeout=30)\n"
     ]
    },
    {
     "name": "stderr",
     "output_type": "stream",
     "text": [
      " 19%|█▉        | 20267/105062 [22:48:44<95:26:41,  4.05s/it]   \n"
     ]
    },
    {
     "ename": "KeyboardInterrupt",
     "evalue": "",
     "output_type": "error",
     "traceback": [
      "\u001b[1;31m---------------------------------------------------------------------------\u001b[0m",
      "\u001b[1;31mKeyboardInterrupt\u001b[0m                         Traceback (most recent call last)",
      "Cell \u001b[1;32mIn[9], line 90\u001b[0m\n\u001b[0;32m     88\u001b[0m feature_rows \u001b[38;5;241m=\u001b[39m []\n\u001b[0;32m     89\u001b[0m \u001b[38;5;28;01mfor\u001b[39;00m _, row \u001b[38;5;129;01min\u001b[39;00m tqdm(df\u001b[38;5;241m.\u001b[39miterrows(), total\u001b[38;5;241m=\u001b[39m\u001b[38;5;28mlen\u001b[39m(df)):\n\u001b[1;32m---> 90\u001b[0m     feats \u001b[38;5;241m=\u001b[39m \u001b[43mextract_features\u001b[49m\u001b[43m(\u001b[49m\u001b[43mrow\u001b[49m\u001b[43m[\u001b[49m\u001b[38;5;124;43m\"\u001b[39;49m\u001b[38;5;124;43murl\u001b[39;49m\u001b[38;5;124;43m\"\u001b[39;49m\u001b[43m]\u001b[49m\u001b[43m)\u001b[49m\n\u001b[0;32m     91\u001b[0m     \u001b[38;5;28;01mif\u001b[39;00m feats:\n\u001b[0;32m     92\u001b[0m         feats[\u001b[38;5;124m\"\u001b[39m\u001b[38;5;124murl\u001b[39m\u001b[38;5;124m\"\u001b[39m] \u001b[38;5;241m=\u001b[39m row[\u001b[38;5;124m\"\u001b[39m\u001b[38;5;124murl\u001b[39m\u001b[38;5;124m\"\u001b[39m]\n",
      "Cell \u001b[1;32mIn[9], line 68\u001b[0m, in \u001b[0;36mextract_features\u001b[1;34m(url)\u001b[0m\n\u001b[0;32m     65\u001b[0m features[\u001b[38;5;124m\"\u001b[39m\u001b[38;5;124mhas_php_or_html\u001b[39m\u001b[38;5;124m\"\u001b[39m] \u001b[38;5;241m=\u001b[39m \u001b[38;5;28mint\u001b[39m(\u001b[38;5;124m\"\u001b[39m\u001b[38;5;124m.php\u001b[39m\u001b[38;5;124m\"\u001b[39m \u001b[38;5;129;01min\u001b[39;00m url \u001b[38;5;129;01mor\u001b[39;00m \u001b[38;5;124m\"\u001b[39m\u001b[38;5;124m.html\u001b[39m\u001b[38;5;124m\"\u001b[39m \u001b[38;5;129;01min\u001b[39;00m url \u001b[38;5;129;01mor\u001b[39;00m \u001b[38;5;124m\"\u001b[39m\u001b[38;5;124m.htm\u001b[39m\u001b[38;5;124m\"\u001b[39m \u001b[38;5;129;01min\u001b[39;00m url)\n\u001b[0;32m     67\u001b[0m \u001b[38;5;66;03m# WHOIS-based feature\u001b[39;00m\n\u001b[1;32m---> 68\u001b[0m features[\u001b[38;5;124m\"\u001b[39m\u001b[38;5;124mwhois_registered\u001b[39m\u001b[38;5;124m\"\u001b[39m] \u001b[38;5;241m=\u001b[39m \u001b[43mis_domain_registered\u001b[49m\u001b[43m(\u001b[49m\u001b[43mdomain\u001b[49m\u001b[43m)\u001b[49m\n\u001b[0;32m     70\u001b[0m \u001b[38;5;66;03m# DNS-based feature\u001b[39;00m\n\u001b[0;32m     71\u001b[0m \u001b[38;5;28;01mtry\u001b[39;00m:\n",
      "Cell \u001b[1;32mIn[9], line 28\u001b[0m, in \u001b[0;36mis_domain_registered\u001b[1;34m(domain, max_retries)\u001b[0m\n\u001b[0;32m     23\u001b[0m \u001b[38;5;28;01mtry\u001b[39;00m:\n\u001b[0;32m     24\u001b[0m     url \u001b[38;5;241m=\u001b[39m (\n\u001b[0;32m     25\u001b[0m         \u001b[38;5;124mf\u001b[39m\u001b[38;5;124m\"\u001b[39m\u001b[38;5;124mhttps://www.whoisxmlapi.com/whoisserver/WhoisService\u001b[39m\u001b[38;5;124m\"\u001b[39m\n\u001b[0;32m     26\u001b[0m         \u001b[38;5;124mf\u001b[39m\u001b[38;5;124m\"\u001b[39m\u001b[38;5;124m?apiKey=\u001b[39m\u001b[38;5;132;01m{\u001b[39;00mWHOIS_API_KEY\u001b[38;5;132;01m}\u001b[39;00m\u001b[38;5;124m&domainName=\u001b[39m\u001b[38;5;132;01m{\u001b[39;00mdomain\u001b[38;5;132;01m}\u001b[39;00m\u001b[38;5;124m&outputFormat=JSON\u001b[39m\u001b[38;5;124m\"\u001b[39m\n\u001b[0;32m     27\u001b[0m     )\n\u001b[1;32m---> 28\u001b[0m     response \u001b[38;5;241m=\u001b[39m \u001b[43mrequests\u001b[49m\u001b[38;5;241;43m.\u001b[39;49m\u001b[43mget\u001b[49m\u001b[43m(\u001b[49m\u001b[43murl\u001b[49m\u001b[43m,\u001b[49m\u001b[43m \u001b[49m\u001b[43mtimeout\u001b[49m\u001b[38;5;241;43m=\u001b[39;49m\u001b[38;5;241;43m30\u001b[39;49m\u001b[43m)\u001b[49m\n\u001b[0;32m     29\u001b[0m     \u001b[38;5;28;01mif\u001b[39;00m response\u001b[38;5;241m.\u001b[39mstatus_code \u001b[38;5;241m==\u001b[39m \u001b[38;5;241m429\u001b[39m:  \u001b[38;5;66;03m# Too Many Requests\u001b[39;00m\n\u001b[0;32m     30\u001b[0m         \u001b[38;5;28mprint\u001b[39m(\u001b[38;5;124mf\u001b[39m\u001b[38;5;124m\"\u001b[39m\u001b[38;5;124mRate limited, waiting to retry \u001b[39m\u001b[38;5;132;01m{\u001b[39;00mdomain\u001b[38;5;132;01m}\u001b[39;00m\u001b[38;5;124m...\u001b[39m\u001b[38;5;124m\"\u001b[39m)\n",
      "File \u001b[1;32mc:\\Python312\\Lib\\site-packages\\requests\\api.py:73\u001b[0m, in \u001b[0;36mget\u001b[1;34m(url, params, **kwargs)\u001b[0m\n\u001b[0;32m     62\u001b[0m \u001b[38;5;28;01mdef\u001b[39;00m \u001b[38;5;21mget\u001b[39m(url, params\u001b[38;5;241m=\u001b[39m\u001b[38;5;28;01mNone\u001b[39;00m, \u001b[38;5;241m*\u001b[39m\u001b[38;5;241m*\u001b[39mkwargs):\n\u001b[0;32m     63\u001b[0m \u001b[38;5;250m    \u001b[39m\u001b[38;5;124mr\u001b[39m\u001b[38;5;124;03m\"\"\"Sends a GET request.\u001b[39;00m\n\u001b[0;32m     64\u001b[0m \n\u001b[0;32m     65\u001b[0m \u001b[38;5;124;03m    :param url: URL for the new :class:`Request` object.\u001b[39;00m\n\u001b[1;32m   (...)\u001b[0m\n\u001b[0;32m     70\u001b[0m \u001b[38;5;124;03m    :rtype: requests.Response\u001b[39;00m\n\u001b[0;32m     71\u001b[0m \u001b[38;5;124;03m    \"\"\"\u001b[39;00m\n\u001b[1;32m---> 73\u001b[0m     \u001b[38;5;28;01mreturn\u001b[39;00m \u001b[43mrequest\u001b[49m\u001b[43m(\u001b[49m\u001b[38;5;124;43m\"\u001b[39;49m\u001b[38;5;124;43mget\u001b[39;49m\u001b[38;5;124;43m\"\u001b[39;49m\u001b[43m,\u001b[49m\u001b[43m \u001b[49m\u001b[43murl\u001b[49m\u001b[43m,\u001b[49m\u001b[43m \u001b[49m\u001b[43mparams\u001b[49m\u001b[38;5;241;43m=\u001b[39;49m\u001b[43mparams\u001b[49m\u001b[43m,\u001b[49m\u001b[43m \u001b[49m\u001b[38;5;241;43m*\u001b[39;49m\u001b[38;5;241;43m*\u001b[39;49m\u001b[43mkwargs\u001b[49m\u001b[43m)\u001b[49m\n",
      "File \u001b[1;32mc:\\Python312\\Lib\\site-packages\\requests\\api.py:59\u001b[0m, in \u001b[0;36mrequest\u001b[1;34m(method, url, **kwargs)\u001b[0m\n\u001b[0;32m     55\u001b[0m \u001b[38;5;66;03m# By using the 'with' statement we are sure the session is closed, thus we\u001b[39;00m\n\u001b[0;32m     56\u001b[0m \u001b[38;5;66;03m# avoid leaving sockets open which can trigger a ResourceWarning in some\u001b[39;00m\n\u001b[0;32m     57\u001b[0m \u001b[38;5;66;03m# cases, and look like a memory leak in others.\u001b[39;00m\n\u001b[0;32m     58\u001b[0m \u001b[38;5;28;01mwith\u001b[39;00m sessions\u001b[38;5;241m.\u001b[39mSession() \u001b[38;5;28;01mas\u001b[39;00m session:\n\u001b[1;32m---> 59\u001b[0m     \u001b[38;5;28;01mreturn\u001b[39;00m \u001b[43msession\u001b[49m\u001b[38;5;241;43m.\u001b[39;49m\u001b[43mrequest\u001b[49m\u001b[43m(\u001b[49m\u001b[43mmethod\u001b[49m\u001b[38;5;241;43m=\u001b[39;49m\u001b[43mmethod\u001b[49m\u001b[43m,\u001b[49m\u001b[43m \u001b[49m\u001b[43murl\u001b[49m\u001b[38;5;241;43m=\u001b[39;49m\u001b[43murl\u001b[49m\u001b[43m,\u001b[49m\u001b[43m \u001b[49m\u001b[38;5;241;43m*\u001b[39;49m\u001b[38;5;241;43m*\u001b[39;49m\u001b[43mkwargs\u001b[49m\u001b[43m)\u001b[49m\n",
      "File \u001b[1;32mc:\\Python312\\Lib\\site-packages\\requests\\sessions.py:589\u001b[0m, in \u001b[0;36mSession.request\u001b[1;34m(self, method, url, params, data, headers, cookies, files, auth, timeout, allow_redirects, proxies, hooks, stream, verify, cert, json)\u001b[0m\n\u001b[0;32m    584\u001b[0m send_kwargs \u001b[38;5;241m=\u001b[39m {\n\u001b[0;32m    585\u001b[0m     \u001b[38;5;124m\"\u001b[39m\u001b[38;5;124mtimeout\u001b[39m\u001b[38;5;124m\"\u001b[39m: timeout,\n\u001b[0;32m    586\u001b[0m     \u001b[38;5;124m\"\u001b[39m\u001b[38;5;124mallow_redirects\u001b[39m\u001b[38;5;124m\"\u001b[39m: allow_redirects,\n\u001b[0;32m    587\u001b[0m }\n\u001b[0;32m    588\u001b[0m send_kwargs\u001b[38;5;241m.\u001b[39mupdate(settings)\n\u001b[1;32m--> 589\u001b[0m resp \u001b[38;5;241m=\u001b[39m \u001b[38;5;28;43mself\u001b[39;49m\u001b[38;5;241;43m.\u001b[39;49m\u001b[43msend\u001b[49m\u001b[43m(\u001b[49m\u001b[43mprep\u001b[49m\u001b[43m,\u001b[49m\u001b[43m \u001b[49m\u001b[38;5;241;43m*\u001b[39;49m\u001b[38;5;241;43m*\u001b[39;49m\u001b[43msend_kwargs\u001b[49m\u001b[43m)\u001b[49m\n\u001b[0;32m    591\u001b[0m \u001b[38;5;28;01mreturn\u001b[39;00m resp\n",
      "File \u001b[1;32mc:\\Python312\\Lib\\site-packages\\requests\\sessions.py:703\u001b[0m, in \u001b[0;36mSession.send\u001b[1;34m(self, request, **kwargs)\u001b[0m\n\u001b[0;32m    700\u001b[0m start \u001b[38;5;241m=\u001b[39m preferred_clock()\n\u001b[0;32m    702\u001b[0m \u001b[38;5;66;03m# Send the request\u001b[39;00m\n\u001b[1;32m--> 703\u001b[0m r \u001b[38;5;241m=\u001b[39m \u001b[43madapter\u001b[49m\u001b[38;5;241;43m.\u001b[39;49m\u001b[43msend\u001b[49m\u001b[43m(\u001b[49m\u001b[43mrequest\u001b[49m\u001b[43m,\u001b[49m\u001b[43m \u001b[49m\u001b[38;5;241;43m*\u001b[39;49m\u001b[38;5;241;43m*\u001b[39;49m\u001b[43mkwargs\u001b[49m\u001b[43m)\u001b[49m\n\u001b[0;32m    705\u001b[0m \u001b[38;5;66;03m# Total elapsed time of the request (approximately)\u001b[39;00m\n\u001b[0;32m    706\u001b[0m elapsed \u001b[38;5;241m=\u001b[39m preferred_clock() \u001b[38;5;241m-\u001b[39m start\n",
      "File \u001b[1;32mc:\\Python312\\Lib\\site-packages\\requests\\adapters.py:486\u001b[0m, in \u001b[0;36mHTTPAdapter.send\u001b[1;34m(self, request, stream, timeout, verify, cert, proxies)\u001b[0m\n\u001b[0;32m    483\u001b[0m     timeout \u001b[38;5;241m=\u001b[39m TimeoutSauce(connect\u001b[38;5;241m=\u001b[39mtimeout, read\u001b[38;5;241m=\u001b[39mtimeout)\n\u001b[0;32m    485\u001b[0m \u001b[38;5;28;01mtry\u001b[39;00m:\n\u001b[1;32m--> 486\u001b[0m     resp \u001b[38;5;241m=\u001b[39m \u001b[43mconn\u001b[49m\u001b[38;5;241;43m.\u001b[39;49m\u001b[43murlopen\u001b[49m\u001b[43m(\u001b[49m\n\u001b[0;32m    487\u001b[0m \u001b[43m        \u001b[49m\u001b[43mmethod\u001b[49m\u001b[38;5;241;43m=\u001b[39;49m\u001b[43mrequest\u001b[49m\u001b[38;5;241;43m.\u001b[39;49m\u001b[43mmethod\u001b[49m\u001b[43m,\u001b[49m\n\u001b[0;32m    488\u001b[0m \u001b[43m        \u001b[49m\u001b[43murl\u001b[49m\u001b[38;5;241;43m=\u001b[39;49m\u001b[43murl\u001b[49m\u001b[43m,\u001b[49m\n\u001b[0;32m    489\u001b[0m \u001b[43m        \u001b[49m\u001b[43mbody\u001b[49m\u001b[38;5;241;43m=\u001b[39;49m\u001b[43mrequest\u001b[49m\u001b[38;5;241;43m.\u001b[39;49m\u001b[43mbody\u001b[49m\u001b[43m,\u001b[49m\n\u001b[0;32m    490\u001b[0m \u001b[43m        \u001b[49m\u001b[43mheaders\u001b[49m\u001b[38;5;241;43m=\u001b[39;49m\u001b[43mrequest\u001b[49m\u001b[38;5;241;43m.\u001b[39;49m\u001b[43mheaders\u001b[49m\u001b[43m,\u001b[49m\n\u001b[0;32m    491\u001b[0m \u001b[43m        \u001b[49m\u001b[43mredirect\u001b[49m\u001b[38;5;241;43m=\u001b[39;49m\u001b[38;5;28;43;01mFalse\u001b[39;49;00m\u001b[43m,\u001b[49m\n\u001b[0;32m    492\u001b[0m \u001b[43m        \u001b[49m\u001b[43massert_same_host\u001b[49m\u001b[38;5;241;43m=\u001b[39;49m\u001b[38;5;28;43;01mFalse\u001b[39;49;00m\u001b[43m,\u001b[49m\n\u001b[0;32m    493\u001b[0m \u001b[43m        \u001b[49m\u001b[43mpreload_content\u001b[49m\u001b[38;5;241;43m=\u001b[39;49m\u001b[38;5;28;43;01mFalse\u001b[39;49;00m\u001b[43m,\u001b[49m\n\u001b[0;32m    494\u001b[0m \u001b[43m        \u001b[49m\u001b[43mdecode_content\u001b[49m\u001b[38;5;241;43m=\u001b[39;49m\u001b[38;5;28;43;01mFalse\u001b[39;49;00m\u001b[43m,\u001b[49m\n\u001b[0;32m    495\u001b[0m \u001b[43m        \u001b[49m\u001b[43mretries\u001b[49m\u001b[38;5;241;43m=\u001b[39;49m\u001b[38;5;28;43mself\u001b[39;49m\u001b[38;5;241;43m.\u001b[39;49m\u001b[43mmax_retries\u001b[49m\u001b[43m,\u001b[49m\n\u001b[0;32m    496\u001b[0m \u001b[43m        \u001b[49m\u001b[43mtimeout\u001b[49m\u001b[38;5;241;43m=\u001b[39;49m\u001b[43mtimeout\u001b[49m\u001b[43m,\u001b[49m\n\u001b[0;32m    497\u001b[0m \u001b[43m        \u001b[49m\u001b[43mchunked\u001b[49m\u001b[38;5;241;43m=\u001b[39;49m\u001b[43mchunked\u001b[49m\u001b[43m,\u001b[49m\n\u001b[0;32m    498\u001b[0m \u001b[43m    \u001b[49m\u001b[43m)\u001b[49m\n\u001b[0;32m    500\u001b[0m \u001b[38;5;28;01mexcept\u001b[39;00m (ProtocolError, \u001b[38;5;167;01mOSError\u001b[39;00m) \u001b[38;5;28;01mas\u001b[39;00m err:\n\u001b[0;32m    501\u001b[0m     \u001b[38;5;28;01mraise\u001b[39;00m \u001b[38;5;167;01mConnectionError\u001b[39;00m(err, request\u001b[38;5;241m=\u001b[39mrequest)\n",
      "File \u001b[1;32mc:\\Python312\\Lib\\site-packages\\urllib3\\connectionpool.py:793\u001b[0m, in \u001b[0;36mHTTPConnectionPool.urlopen\u001b[1;34m(self, method, url, body, headers, retries, redirect, assert_same_host, timeout, pool_timeout, release_conn, chunked, body_pos, preload_content, decode_content, **response_kw)\u001b[0m\n\u001b[0;32m    790\u001b[0m response_conn \u001b[38;5;241m=\u001b[39m conn \u001b[38;5;28;01mif\u001b[39;00m \u001b[38;5;129;01mnot\u001b[39;00m release_conn \u001b[38;5;28;01melse\u001b[39;00m \u001b[38;5;28;01mNone\u001b[39;00m\n\u001b[0;32m    792\u001b[0m \u001b[38;5;66;03m# Make the request on the HTTPConnection object\u001b[39;00m\n\u001b[1;32m--> 793\u001b[0m response \u001b[38;5;241m=\u001b[39m \u001b[38;5;28;43mself\u001b[39;49m\u001b[38;5;241;43m.\u001b[39;49m\u001b[43m_make_request\u001b[49m\u001b[43m(\u001b[49m\n\u001b[0;32m    794\u001b[0m \u001b[43m    \u001b[49m\u001b[43mconn\u001b[49m\u001b[43m,\u001b[49m\n\u001b[0;32m    795\u001b[0m \u001b[43m    \u001b[49m\u001b[43mmethod\u001b[49m\u001b[43m,\u001b[49m\n\u001b[0;32m    796\u001b[0m \u001b[43m    \u001b[49m\u001b[43murl\u001b[49m\u001b[43m,\u001b[49m\n\u001b[0;32m    797\u001b[0m \u001b[43m    \u001b[49m\u001b[43mtimeout\u001b[49m\u001b[38;5;241;43m=\u001b[39;49m\u001b[43mtimeout_obj\u001b[49m\u001b[43m,\u001b[49m\n\u001b[0;32m    798\u001b[0m \u001b[43m    \u001b[49m\u001b[43mbody\u001b[49m\u001b[38;5;241;43m=\u001b[39;49m\u001b[43mbody\u001b[49m\u001b[43m,\u001b[49m\n\u001b[0;32m    799\u001b[0m \u001b[43m    \u001b[49m\u001b[43mheaders\u001b[49m\u001b[38;5;241;43m=\u001b[39;49m\u001b[43mheaders\u001b[49m\u001b[43m,\u001b[49m\n\u001b[0;32m    800\u001b[0m \u001b[43m    \u001b[49m\u001b[43mchunked\u001b[49m\u001b[38;5;241;43m=\u001b[39;49m\u001b[43mchunked\u001b[49m\u001b[43m,\u001b[49m\n\u001b[0;32m    801\u001b[0m \u001b[43m    \u001b[49m\u001b[43mretries\u001b[49m\u001b[38;5;241;43m=\u001b[39;49m\u001b[43mretries\u001b[49m\u001b[43m,\u001b[49m\n\u001b[0;32m    802\u001b[0m \u001b[43m    \u001b[49m\u001b[43mresponse_conn\u001b[49m\u001b[38;5;241;43m=\u001b[39;49m\u001b[43mresponse_conn\u001b[49m\u001b[43m,\u001b[49m\n\u001b[0;32m    803\u001b[0m \u001b[43m    \u001b[49m\u001b[43mpreload_content\u001b[49m\u001b[38;5;241;43m=\u001b[39;49m\u001b[43mpreload_content\u001b[49m\u001b[43m,\u001b[49m\n\u001b[0;32m    804\u001b[0m \u001b[43m    \u001b[49m\u001b[43mdecode_content\u001b[49m\u001b[38;5;241;43m=\u001b[39;49m\u001b[43mdecode_content\u001b[49m\u001b[43m,\u001b[49m\n\u001b[0;32m    805\u001b[0m \u001b[43m    \u001b[49m\u001b[38;5;241;43m*\u001b[39;49m\u001b[38;5;241;43m*\u001b[39;49m\u001b[43mresponse_kw\u001b[49m\u001b[43m,\u001b[49m\n\u001b[0;32m    806\u001b[0m \u001b[43m\u001b[49m\u001b[43m)\u001b[49m\n\u001b[0;32m    808\u001b[0m \u001b[38;5;66;03m# Everything went great!\u001b[39;00m\n\u001b[0;32m    809\u001b[0m clean_exit \u001b[38;5;241m=\u001b[39m \u001b[38;5;28;01mTrue\u001b[39;00m\n",
      "File \u001b[1;32mc:\\Python312\\Lib\\site-packages\\urllib3\\connectionpool.py:537\u001b[0m, in \u001b[0;36mHTTPConnectionPool._make_request\u001b[1;34m(self, conn, method, url, body, headers, retries, timeout, chunked, response_conn, preload_content, decode_content, enforce_content_length)\u001b[0m\n\u001b[0;32m    535\u001b[0m \u001b[38;5;66;03m# Receive the response from the server\u001b[39;00m\n\u001b[0;32m    536\u001b[0m \u001b[38;5;28;01mtry\u001b[39;00m:\n\u001b[1;32m--> 537\u001b[0m     response \u001b[38;5;241m=\u001b[39m \u001b[43mconn\u001b[49m\u001b[38;5;241;43m.\u001b[39;49m\u001b[43mgetresponse\u001b[49m\u001b[43m(\u001b[49m\u001b[43m)\u001b[49m\n\u001b[0;32m    538\u001b[0m \u001b[38;5;28;01mexcept\u001b[39;00m (BaseSSLError, \u001b[38;5;167;01mOSError\u001b[39;00m) \u001b[38;5;28;01mas\u001b[39;00m e:\n\u001b[0;32m    539\u001b[0m     \u001b[38;5;28mself\u001b[39m\u001b[38;5;241m.\u001b[39m_raise_timeout(err\u001b[38;5;241m=\u001b[39me, url\u001b[38;5;241m=\u001b[39murl, timeout_value\u001b[38;5;241m=\u001b[39mread_timeout)\n",
      "File \u001b[1;32mc:\\Python312\\Lib\\site-packages\\urllib3\\connection.py:466\u001b[0m, in \u001b[0;36mHTTPConnection.getresponse\u001b[1;34m(self)\u001b[0m\n\u001b[0;32m    463\u001b[0m \u001b[38;5;28;01mfrom\u001b[39;00m \u001b[38;5;21;01m.\u001b[39;00m\u001b[38;5;21;01mresponse\u001b[39;00m \u001b[38;5;28;01mimport\u001b[39;00m HTTPResponse\n\u001b[0;32m    465\u001b[0m \u001b[38;5;66;03m# Get the response from http.client.HTTPConnection\u001b[39;00m\n\u001b[1;32m--> 466\u001b[0m httplib_response \u001b[38;5;241m=\u001b[39m \u001b[38;5;28;43msuper\u001b[39;49m\u001b[43m(\u001b[49m\u001b[43m)\u001b[49m\u001b[38;5;241;43m.\u001b[39;49m\u001b[43mgetresponse\u001b[49m\u001b[43m(\u001b[49m\u001b[43m)\u001b[49m\n\u001b[0;32m    468\u001b[0m \u001b[38;5;28;01mtry\u001b[39;00m:\n\u001b[0;32m    469\u001b[0m     assert_header_parsing(httplib_response\u001b[38;5;241m.\u001b[39mmsg)\n",
      "File \u001b[1;32mc:\\Python312\\Lib\\http\\client.py:1423\u001b[0m, in \u001b[0;36mHTTPConnection.getresponse\u001b[1;34m(self)\u001b[0m\n\u001b[0;32m   1421\u001b[0m \u001b[38;5;28;01mtry\u001b[39;00m:\n\u001b[0;32m   1422\u001b[0m     \u001b[38;5;28;01mtry\u001b[39;00m:\n\u001b[1;32m-> 1423\u001b[0m         \u001b[43mresponse\u001b[49m\u001b[38;5;241;43m.\u001b[39;49m\u001b[43mbegin\u001b[49m\u001b[43m(\u001b[49m\u001b[43m)\u001b[49m\n\u001b[0;32m   1424\u001b[0m     \u001b[38;5;28;01mexcept\u001b[39;00m \u001b[38;5;167;01mConnectionError\u001b[39;00m:\n\u001b[0;32m   1425\u001b[0m         \u001b[38;5;28mself\u001b[39m\u001b[38;5;241m.\u001b[39mclose()\n",
      "File \u001b[1;32mc:\\Python312\\Lib\\http\\client.py:331\u001b[0m, in \u001b[0;36mHTTPResponse.begin\u001b[1;34m(self)\u001b[0m\n\u001b[0;32m    329\u001b[0m \u001b[38;5;66;03m# read until we get a non-100 response\u001b[39;00m\n\u001b[0;32m    330\u001b[0m \u001b[38;5;28;01mwhile\u001b[39;00m \u001b[38;5;28;01mTrue\u001b[39;00m:\n\u001b[1;32m--> 331\u001b[0m     version, status, reason \u001b[38;5;241m=\u001b[39m \u001b[38;5;28;43mself\u001b[39;49m\u001b[38;5;241;43m.\u001b[39;49m\u001b[43m_read_status\u001b[49m\u001b[43m(\u001b[49m\u001b[43m)\u001b[49m\n\u001b[0;32m    332\u001b[0m     \u001b[38;5;28;01mif\u001b[39;00m status \u001b[38;5;241m!=\u001b[39m CONTINUE:\n\u001b[0;32m    333\u001b[0m         \u001b[38;5;28;01mbreak\u001b[39;00m\n",
      "File \u001b[1;32mc:\\Python312\\Lib\\http\\client.py:292\u001b[0m, in \u001b[0;36mHTTPResponse._read_status\u001b[1;34m(self)\u001b[0m\n\u001b[0;32m    291\u001b[0m \u001b[38;5;28;01mdef\u001b[39;00m \u001b[38;5;21m_read_status\u001b[39m(\u001b[38;5;28mself\u001b[39m):\n\u001b[1;32m--> 292\u001b[0m     line \u001b[38;5;241m=\u001b[39m \u001b[38;5;28mstr\u001b[39m(\u001b[38;5;28;43mself\u001b[39;49m\u001b[38;5;241;43m.\u001b[39;49m\u001b[43mfp\u001b[49m\u001b[38;5;241;43m.\u001b[39;49m\u001b[43mreadline\u001b[49m\u001b[43m(\u001b[49m\u001b[43m_MAXLINE\u001b[49m\u001b[43m \u001b[49m\u001b[38;5;241;43m+\u001b[39;49m\u001b[43m \u001b[49m\u001b[38;5;241;43m1\u001b[39;49m\u001b[43m)\u001b[49m, \u001b[38;5;124m\"\u001b[39m\u001b[38;5;124miso-8859-1\u001b[39m\u001b[38;5;124m\"\u001b[39m)\n\u001b[0;32m    293\u001b[0m     \u001b[38;5;28;01mif\u001b[39;00m \u001b[38;5;28mlen\u001b[39m(line) \u001b[38;5;241m>\u001b[39m _MAXLINE:\n\u001b[0;32m    294\u001b[0m         \u001b[38;5;28;01mraise\u001b[39;00m LineTooLong(\u001b[38;5;124m\"\u001b[39m\u001b[38;5;124mstatus line\u001b[39m\u001b[38;5;124m\"\u001b[39m)\n",
      "File \u001b[1;32mc:\\Python312\\Lib\\socket.py:707\u001b[0m, in \u001b[0;36mSocketIO.readinto\u001b[1;34m(self, b)\u001b[0m\n\u001b[0;32m    705\u001b[0m \u001b[38;5;28;01mwhile\u001b[39;00m \u001b[38;5;28;01mTrue\u001b[39;00m:\n\u001b[0;32m    706\u001b[0m     \u001b[38;5;28;01mtry\u001b[39;00m:\n\u001b[1;32m--> 707\u001b[0m         \u001b[38;5;28;01mreturn\u001b[39;00m \u001b[38;5;28;43mself\u001b[39;49m\u001b[38;5;241;43m.\u001b[39;49m\u001b[43m_sock\u001b[49m\u001b[38;5;241;43m.\u001b[39;49m\u001b[43mrecv_into\u001b[49m\u001b[43m(\u001b[49m\u001b[43mb\u001b[49m\u001b[43m)\u001b[49m\n\u001b[0;32m    708\u001b[0m     \u001b[38;5;28;01mexcept\u001b[39;00m timeout:\n\u001b[0;32m    709\u001b[0m         \u001b[38;5;28mself\u001b[39m\u001b[38;5;241m.\u001b[39m_timeout_occurred \u001b[38;5;241m=\u001b[39m \u001b[38;5;28;01mTrue\u001b[39;00m\n",
      "File \u001b[1;32mc:\\Python312\\Lib\\ssl.py:1252\u001b[0m, in \u001b[0;36mSSLSocket.recv_into\u001b[1;34m(self, buffer, nbytes, flags)\u001b[0m\n\u001b[0;32m   1248\u001b[0m     \u001b[38;5;28;01mif\u001b[39;00m flags \u001b[38;5;241m!=\u001b[39m \u001b[38;5;241m0\u001b[39m:\n\u001b[0;32m   1249\u001b[0m         \u001b[38;5;28;01mraise\u001b[39;00m \u001b[38;5;167;01mValueError\u001b[39;00m(\n\u001b[0;32m   1250\u001b[0m           \u001b[38;5;124m\"\u001b[39m\u001b[38;5;124mnon-zero flags not allowed in calls to recv_into() on \u001b[39m\u001b[38;5;132;01m%s\u001b[39;00m\u001b[38;5;124m\"\u001b[39m \u001b[38;5;241m%\u001b[39m\n\u001b[0;32m   1251\u001b[0m           \u001b[38;5;28mself\u001b[39m\u001b[38;5;241m.\u001b[39m\u001b[38;5;18m__class__\u001b[39m)\n\u001b[1;32m-> 1252\u001b[0m     \u001b[38;5;28;01mreturn\u001b[39;00m \u001b[38;5;28;43mself\u001b[39;49m\u001b[38;5;241;43m.\u001b[39;49m\u001b[43mread\u001b[49m\u001b[43m(\u001b[49m\u001b[43mnbytes\u001b[49m\u001b[43m,\u001b[49m\u001b[43m \u001b[49m\u001b[43mbuffer\u001b[49m\u001b[43m)\u001b[49m\n\u001b[0;32m   1253\u001b[0m \u001b[38;5;28;01melse\u001b[39;00m:\n\u001b[0;32m   1254\u001b[0m     \u001b[38;5;28;01mreturn\u001b[39;00m \u001b[38;5;28msuper\u001b[39m()\u001b[38;5;241m.\u001b[39mrecv_into(buffer, nbytes, flags)\n",
      "File \u001b[1;32mc:\\Python312\\Lib\\ssl.py:1104\u001b[0m, in \u001b[0;36mSSLSocket.read\u001b[1;34m(self, len, buffer)\u001b[0m\n\u001b[0;32m   1102\u001b[0m \u001b[38;5;28;01mtry\u001b[39;00m:\n\u001b[0;32m   1103\u001b[0m     \u001b[38;5;28;01mif\u001b[39;00m buffer \u001b[38;5;129;01mis\u001b[39;00m \u001b[38;5;129;01mnot\u001b[39;00m \u001b[38;5;28;01mNone\u001b[39;00m:\n\u001b[1;32m-> 1104\u001b[0m         \u001b[38;5;28;01mreturn\u001b[39;00m \u001b[38;5;28;43mself\u001b[39;49m\u001b[38;5;241;43m.\u001b[39;49m\u001b[43m_sslobj\u001b[49m\u001b[38;5;241;43m.\u001b[39;49m\u001b[43mread\u001b[49m\u001b[43m(\u001b[49m\u001b[38;5;28;43mlen\u001b[39;49m\u001b[43m,\u001b[49m\u001b[43m \u001b[49m\u001b[43mbuffer\u001b[49m\u001b[43m)\u001b[49m\n\u001b[0;32m   1105\u001b[0m     \u001b[38;5;28;01melse\u001b[39;00m:\n\u001b[0;32m   1106\u001b[0m         \u001b[38;5;28;01mreturn\u001b[39;00m \u001b[38;5;28mself\u001b[39m\u001b[38;5;241m.\u001b[39m_sslobj\u001b[38;5;241m.\u001b[39mread(\u001b[38;5;28mlen\u001b[39m)\n",
      "\u001b[1;31mKeyboardInterrupt\u001b[0m: "
     ]
    }
   ],
   "source": [
    "import pandas as pd\n",
    "import re\n",
    "import tldextract\n",
    "import requests\n",
    "import os\n",
    "from urllib.parse import urlparse\n",
    "import socket\n",
    "from dotenv import load_dotenv\n",
    "from tqdm import tqdm\n",
    "import time\n",
    "\n",
    "# === Load API Keys ===\n",
    "load_dotenv()\n",
    "WHOIS_API_KEY = os.getenv(\"WHOIS_API_KEY\")  # <-- Make sure this matches your .env file!\n",
    "\n",
    "# === Paths ===\n",
    "INPUT_FILE = r\"C:\\prateek\\projects\\linkload\\backend\\ml_models\\phishing_detection\\data\\labeled_url_dataset.csv\"\n",
    "OUTPUT_FILE = r\"C:\\prateek\\projects\\linkload\\backend\\ml_models\\phishing_detection\\data\\phishing_dataset_with_features.csv\"\n",
    "\n",
    "# === WHOIS Helper with Retry & Rate Limit Handling ===\n",
    "def is_domain_registered(domain, max_retries=3):\n",
    "    for attempt in range(max_retries):\n",
    "        try:\n",
    "            url = (\n",
    "                f\"https://www.whoisxmlapi.com/whoisserver/WhoisService\"\n",
    "                f\"?apiKey={WHOIS_API_KEY}&domainName={domain}&outputFormat=JSON\"\n",
    "            )\n",
    "            response = requests.get(url, timeout=30)\n",
    "            if response.status_code == 429:  # Too Many Requests\n",
    "                print(f\"Rate limited, waiting to retry {domain}...\")\n",
    "                time.sleep(1)\n",
    "                continue\n",
    "            data = response.json()\n",
    "            if \"WhoisRecord\" in data and data[\"WhoisRecord\"].get(\"createdDate\"):\n",
    "                return 1\n",
    "            return 0\n",
    "        except Exception as e:\n",
    "            print(f\"WHOIS API error for {domain} (attempt {attempt+1}): {e}\")\n",
    "            if attempt < max_retries - 1:\n",
    "                time.sleep(5)\n",
    "    return 0\n",
    "\n",
    "# === Feature Extraction ===\n",
    "def extract_features(url):\n",
    "    features = {}\n",
    "    try:\n",
    "        parsed = urlparse(url)\n",
    "        hostname = parsed.hostname or \"\"\n",
    "        domain_data = tldextract.extract(url)\n",
    "        domain = domain_data.domain + '.' + domain_data.suffix\n",
    "\n",
    "        # URL-based features\n",
    "        features[\"url_length\"] = len(url)\n",
    "        features[\"hostname_length\"] = len(hostname)\n",
    "        features[\"path_length\"] = len(parsed.path)\n",
    "        features[\"num_dots\"] = url.count(\".\")\n",
    "        features[\"num_hyphens\"] = url.count(\"-\")\n",
    "        features[\"has_at_symbol\"] = \"@\" in url\n",
    "        features[\"has_double_slash\"] = '//' in url[8:]\n",
    "        features[\"has_ip_address\"] = 1 if re.match(r\"(?:\\d{1,3}\\.){3}\\d{1,3}\", hostname) else 0\n",
    "        features[\"has_https\"] = 1 if parsed.scheme == \"https\" else 0\n",
    "        features[\"count_www\"] = url.count(\"www\")\n",
    "        features[\"count_subdomain\"] = len(domain_data.subdomain.split(\".\")) if domain_data.subdomain else 0\n",
    "        features[\"first_dir_length\"] = len(parsed.path.split(\"/\")[1]) if len(parsed.path.split(\"/\")) > 1 else 0\n",
    "        features[\"has_php_or_html\"] = int(\".php\" in url or \".html\" in url or \".htm\" in url)\n",
    "\n",
    "        # WHOIS-based feature\n",
    "        features[\"whois_registered\"] = is_domain_registered(domain)\n",
    "\n",
    "        # DNS-based feature\n",
    "        try:\n",
    "            socket.gethostbyname(hostname)\n",
    "            features[\"dns_resolves\"] = 1\n",
    "        except:\n",
    "            features[\"dns_resolves\"] = 0\n",
    "\n",
    "    except Exception as e:\n",
    "        print(f\"[ERROR] Failed to extract from: {url} | {e}\")\n",
    "        return None\n",
    "\n",
    "    return features\n",
    "\n",
    "# === Main Processing ===\n",
    "if __name__ == \"__main__\":\n",
    "    df = pd.read_csv(INPUT_FILE)\n",
    "    df = df.dropna(subset=[\"url\", \"label\"])\n",
    "\n",
    "    feature_rows = []\n",
    "    for _, row in tqdm(df.iterrows(), total=len(df)):\n",
    "        feats = extract_features(row[\"url\"])\n",
    "        if feats:\n",
    "            feats[\"url\"] = row[\"url\"]\n",
    "            feats[\"label\"] = row[\"label\"]\n",
    "            feature_rows.append(feats)\n",
    "        time.sleep(0.1)  # Throttle requests to stay well under rate limits\n",
    "\n",
    "    feature_df = pd.DataFrame(feature_rows)\n",
    "    feature_df.to_csv(OUTPUT_FILE, index=False)\n",
    "    print(f\"Features extracted and saved to: {OUTPUT_FILE}\")\n"
   ]
  },
  {
   "cell_type": "code",
   "execution_count": 10,
   "id": "5d2f87c2",
   "metadata": {},
   "outputs": [
    {
     "name": "stdout",
     "output_type": "stream",
     "text": [
      "Requirement already satisfied: pandas in c:\\users\\sendt\\appdata\\roaming\\python\\python312\\site-packages (2.2.2)Note: you may need to restart the kernel to use updated packages.\n",
      "\n",
      "Requirement already satisfied: tldextract in c:\\python312\\lib\\site-packages (5.1.2)\n",
      "Requirement already satisfied: requests in c:\\python312\\lib\\site-packages (2.31.0)\n",
      "Requirement already satisfied: python-dotenv in c:\\python312\\lib\\site-packages (1.0.1)\n",
      "Requirement already satisfied: tqdm in c:\\python312\\lib\\site-packages (4.66.5)\n",
      "Requirement already satisfied: numpy>=1.26.0 in c:\\users\\sendt\\appdata\\roaming\\python\\python312\\site-packages (from pandas) (1.26.4)\n",
      "Requirement already satisfied: python-dateutil>=2.8.2 in c:\\users\\sendt\\appdata\\roaming\\python\\python312\\site-packages (from pandas) (2.9.0.post0)\n",
      "Requirement already satisfied: pytz>=2020.1 in c:\\users\\sendt\\appdata\\roaming\\python\\python312\\site-packages (from pandas) (2024.1)\n",
      "Requirement already satisfied: tzdata>=2022.7 in c:\\python312\\lib\\site-packages (from pandas) (2025.2)\n",
      "Requirement already satisfied: idna in c:\\python312\\lib\\site-packages (from tldextract) (3.7)\n",
      "Requirement already satisfied: requests-file>=1.4 in c:\\python312\\lib\\site-packages (from tldextract) (2.0.0)\n",
      "Requirement already satisfied: filelock>=3.0.8 in c:\\users\\sendt\\appdata\\roaming\\python\\python312\\site-packages (from tldextract) (3.13.4)\n",
      "Requirement already satisfied: charset-normalizer<4,>=2 in c:\\users\\sendt\\appdata\\roaming\\python\\python312\\site-packages (from requests) (3.3.2)\n",
      "Requirement already satisfied: urllib3<3,>=1.21.1 in c:\\python312\\lib\\site-packages (from requests) (2.2.1)\n",
      "Requirement already satisfied: certifi>=2017.4.17 in c:\\python312\\lib\\site-packages (from requests) (2024.2.2)\n",
      "Requirement already satisfied: colorama in c:\\python312\\lib\\site-packages (from tqdm) (0.4.6)\n",
      "Requirement already satisfied: six>=1.5 in c:\\python312\\lib\\site-packages (from python-dateutil>=2.8.2->pandas) (1.16.0)\n"
     ]
    },
    {
     "name": "stderr",
     "output_type": "stream",
     "text": [
      "WARNING: Ignoring invalid distribution ~ip (c:\\Python312\\Lib\\site-packages)\n",
      "DEPRECATION: Loading egg at c:\\python312\\lib\\site-packages\\vboxapi-1.0-py3.12.egg is deprecated. pip 25.1 will enforce this behaviour change. A possible replacement is to use pip for package installation. Discussion can be found at https://github.com/pypa/pip/issues/12330\n",
      "WARNING: Ignoring invalid distribution ~ip (c:\\Python312\\Lib\\site-packages)\n",
      "WARNING: Ignoring invalid distribution ~ip (c:\\Python312\\Lib\\site-packages)\n",
      "\n",
      "[notice] A new release of pip is available: 24.3.1 -> 25.1.1\n",
      "[notice] To update, run: python.exe -m pip install --upgrade pip\n"
     ]
    }
   ],
   "source": [
    "pip install pandas tldextract requests python-dotenv tqdm\n"
   ]
  },
  {
   "cell_type": "code",
   "execution_count": 12,
   "id": "3088d83b",
   "metadata": {},
   "outputs": [
    {
     "name": "stdout",
     "output_type": "stream",
     "text": [
      "Loading dataset...\n",
      "Loaded 105062 URLs\n",
      "Analyzing domain distribution...\n",
      "Total unique domains: 57577\n",
      "Total URLs: 105062\n",
      "Average URLs per domain: 1.82\n",
      "\n",
      "Step 1: Extracting fast features...\n"
     ]
    },
    {
     "name": "stderr",
     "output_type": "stream",
     "text": [
      "Fast features: 100%|██████████| 105062/105062 [17:52:12<00:00,  1.63it/s]     \n"
     ]
    },
    {
     "name": "stdout",
     "output_type": "stream",
     "text": [
      "Extracted fast features for 105062 URLs\n",
      "\n",
      "Step 2: Found 57684 unique domains for WHOIS lookup\n",
      "Processing WHOIS API calls in parallel...\n"
     ]
    },
    {
     "name": "stderr",
     "output_type": "stream",
     "text": [
      "WHOIS batches:  53%|█████▎    | 610/1154 [1:17:15<30:42,  3.39s/it]  "
     ]
    },
    {
     "name": "stdout",
     "output_type": "stream",
     "text": [
      "WHOIS API error for pornoboard.net (attempt 1): HTTPSConnectionPool(host='www.whoisxmlapi.com', port=443): Max retries exceeded with url: /whoisserver/WhoisService?apiKey=32850693e79c4e1291e441e8f4d09707&domainName=pornoboard.net&outputFormat=JSON (Caused by SSLError(SSLEOFError(8, '[SSL: UNEXPECTED_EOF_WHILE_READING] EOF occurred in violation of protocol (_ssl.c:1000)')))\n",
      "WHOIS API error for liberal.hr (attempt 1): HTTPSConnectionPool(host='www.whoisxmlapi.com', port=443): Max retries exceeded with url: /whoisserver/WhoisService?apiKey=32850693e79c4e1291e441e8f4d09707&domainName=liberal.hr&outputFormat=JSON (Caused by SSLError(SSLEOFError(8, '[SSL: UNEXPECTED_EOF_WHILE_READING] EOF occurred in violation of protocol (_ssl.c:1000)')))\n",
      "WHOIS API error for goodmart24.ru (attempt 1): HTTPSConnectionPool(host='www.whoisxmlapi.com', port=443): Max retries exceeded with url: /whoisserver/WhoisService?apiKey=32850693e79c4e1291e441e8f4d09707&domainName=goodmart24.ru&outputFormat=JSON (Caused by SSLError(SSLEOFError(8, '[SSL: UNEXPECTED_EOF_WHILE_READING] EOF occurred in violation of protocol (_ssl.c:1000)')))\n",
      "WHOIS API error for tinbatdongsan.com (attempt 1): HTTPSConnectionPool(host='www.whoisxmlapi.com', port=443): Max retries exceeded with url: /whoisserver/WhoisService?apiKey=32850693e79c4e1291e441e8f4d09707&domainName=tinbatdongsan.com&outputFormat=JSON (Caused by SSLError(SSLEOFError(8, '[SSL: UNEXPECTED_EOF_WHILE_READING] EOF occurred in violation of protocol (_ssl.c:1000)')))\n",
      "WHOIS API error for sdlproducts.com (attempt 1): HTTPSConnectionPool(host='www.whoisxmlapi.com', port=443): Max retries exceeded with url: /whoisserver/WhoisService?apiKey=32850693e79c4e1291e441e8f4d09707&domainName=sdlproducts.com&outputFormat=JSON (Caused by SSLError(SSLEOFError(8, '[SSL: UNEXPECTED_EOF_WHILE_READING] EOF occurred in violation of protocol (_ssl.c:1000)')))\n",
      "WHOIS API error for alshokri.com (attempt 1): HTTPSConnectionPool(host='www.whoisxmlapi.com', port=443): Max retries exceeded with url: /whoisserver/WhoisService?apiKey=32850693e79c4e1291e441e8f4d09707&domainName=alshokri.com&outputFormat=JSON (Caused by SSLError(SSLEOFError(8, '[SSL: UNEXPECTED_EOF_WHILE_READING] EOF occurred in violation of protocol (_ssl.c:1000)')))\n",
      "WHOIS API error for flhsmvtx.win (attempt 1): HTTPSConnectionPool(host='www.whoisxmlapi.com', port=443): Max retries exceeded with url: /whoisserver/WhoisService?apiKey=32850693e79c4e1291e441e8f4d09707&domainName=flhsmvtx.win&outputFormat=JSON (Caused by SSLError(SSLEOFError(8, '[SSL: UNEXPECTED_EOF_WHILE_READING] EOF occurred in violation of protocol (_ssl.c:1000)')))\n",
      "WHOIS API error for vitafy.de (attempt 1): HTTPSConnectionPool(host='www.whoisxmlapi.com', port=443): Max retries exceeded with url: /whoisserver/WhoisService?apiKey=32850693e79c4e1291e441e8f4d09707&domainName=vitafy.de&outputFormat=JSON (Caused by SSLError(SSLEOFError(8, '[SSL: UNEXPECTED_EOF_WHILE_READING] EOF occurred in violation of protocol (_ssl.c:1000)')))\n",
      "WHOIS API error for trungduc.net (attempt 1): HTTPSConnectionPool(host='www.whoisxmlapi.com', port=443): Max retries exceeded with url: /whoisserver/WhoisService?apiKey=32850693e79c4e1291e441e8f4d09707&domainName=trungduc.net&outputFormat=JSON (Caused by SSLError(SSLEOFError(8, '[SSL: UNEXPECTED_EOF_WHILE_READING] EOF occurred in violation of protocol (_ssl.c:1000)')))\n",
      "WHOIS API error for al3ilm9owa.com (attempt 1): HTTPSConnectionPool(host='www.whoisxmlapi.com', port=443): Max retries exceeded with url: /whoisserver/WhoisService?apiKey=32850693e79c4e1291e441e8f4d09707&domainName=al3ilm9owa.com&outputFormat=JSON (Caused by SSLError(SSLEOFError(8, '[SSL: UNEXPECTED_EOF_WHILE_READING] EOF occurred in violation of protocol (_ssl.c:1000)')))\n",
      "WHOIS API error for pornoboard.net (attempt 2): HTTPSConnectionPool(host='www.whoisxmlapi.com', port=443): Max retries exceeded with url: /whoisserver/WhoisService?apiKey=32850693e79c4e1291e441e8f4d09707&domainName=pornoboard.net&outputFormat=JSON (Caused by NameResolutionError(\"<urllib3.connection.HTTPSConnection object at 0x0000028DE57A6F00>: Failed to resolve 'www.whoisxmlapi.com' ([Errno 11001] getaddrinfo failed)\"))WHOIS API error for goodmart24.ru (attempt 2): HTTPSConnectionPool(host='www.whoisxmlapi.com', port=443): Max retries exceeded with url: /whoisserver/WhoisService?apiKey=32850693e79c4e1291e441e8f4d09707&domainName=goodmart24.ru&outputFormat=JSON (Caused by NameResolutionError(\"<urllib3.connection.HTTPSConnection object at 0x0000028DE57C2570>: Failed to resolve 'www.whoisxmlapi.com' ([Errno 11001] getaddrinfo failed)\"))\n",
      "WHOIS API error for flhsmvtx.win (attempt 2): HTTPSConnectionPool(host='www.whoisxmlapi.com', port=443): Max retries exceeded with url: /whoisserver/WhoisService?apiKey=32850693e79c4e1291e441e8f4d09707&domainName=flhsmvtx.win&outputFormat=JSON (Caused by NameResolutionError(\"<urllib3.connection.HTTPSConnection object at 0x0000028DE57C0E00>: Failed to resolve 'www.whoisxmlapi.com' ([Errno 11001] getaddrinfo failed)\"))\n",
      "WHOIS API error for alshokri.com (attempt 2): HTTPSConnectionPool(host='www.whoisxmlapi.com', port=443): Max retries exceeded with url: /whoisserver/WhoisService?apiKey=32850693e79c4e1291e441e8f4d09707&domainName=alshokri.com&outputFormat=JSON (Caused by NameResolutionError(\"<urllib3.connection.HTTPSConnection object at 0x0000028DE518ED50>: Failed to resolve 'www.whoisxmlapi.com' ([Errno 11001] getaddrinfo failed)\"))\n",
      "WHOIS API error for liberal.hr (attempt 2): HTTPSConnectionPool(host='www.whoisxmlapi.com', port=443): Max retries exceeded with url: /whoisserver/WhoisService?apiKey=32850693e79c4e1291e441e8f4d09707&domainName=liberal.hr&outputFormat=JSON (Caused by NameResolutionError(\"<urllib3.connection.HTTPSConnection object at 0x0000028DE57C3A10>: Failed to resolve 'www.whoisxmlapi.com' ([Errno 11001] getaddrinfo failed)\"))\n",
      "WHOIS API error for tinbatdongsan.com (attempt 2): HTTPSConnectionPool(host='www.whoisxmlapi.com', port=443): Max retries exceeded with url: /whoisserver/WhoisService?apiKey=32850693e79c4e1291e441e8f4d09707&domainName=tinbatdongsan.com&outputFormat=JSON (Caused by NameResolutionError(\"<urllib3.connection.HTTPSConnection object at 0x0000028DE57C1DF0>: Failed to resolve 'www.whoisxmlapi.com' ([Errno 11001] getaddrinfo failed)\"))\n",
      "WHOIS API error for sdlproducts.com (attempt 2): HTTPSConnectionPool(host='www.whoisxmlapi.com', port=443): Max retries exceeded with url: /whoisserver/WhoisService?apiKey=32850693e79c4e1291e441e8f4d09707&domainName=sdlproducts.com&outputFormat=JSON (Caused by NameResolutionError(\"<urllib3.connection.HTTPSConnection object at 0x0000028DE57C1580>: Failed to resolve 'www.whoisxmlapi.com' ([Errno 11001] getaddrinfo failed)\"))\n",
      "\n",
      "WHOIS API error for al3ilm9owa.com (attempt 2): HTTPSConnectionPool(host='www.whoisxmlapi.com', port=443): Max retries exceeded with url: /whoisserver/WhoisService?apiKey=32850693e79c4e1291e441e8f4d09707&domainName=al3ilm9owa.com&outputFormat=JSON (Caused by NameResolutionError(\"<urllib3.connection.HTTPSConnection object at 0x0000028DE578F0E0>: Failed to resolve 'www.whoisxmlapi.com' ([Errno 11001] getaddrinfo failed)\"))\n",
      "WHOIS API error for vitafy.de (attempt 2): HTTPSConnectionPool(host='www.whoisxmlapi.com', port=443): Max retries exceeded with url: /whoisserver/WhoisService?apiKey=32850693e79c4e1291e441e8f4d09707&domainName=vitafy.de&outputFormat=JSON (Caused by NameResolutionError(\"<urllib3.connection.HTTPSConnection object at 0x0000028DE578F920>: Failed to resolve 'www.whoisxmlapi.com' ([Errno 11001] getaddrinfo failed)\"))\n",
      "WHOIS API error for trungduc.net (attempt 2): HTTPSConnectionPool(host='www.whoisxmlapi.com', port=443): Max retries exceeded with url: /whoisserver/WhoisService?apiKey=32850693e79c4e1291e441e8f4d09707&domainName=trungduc.net&outputFormat=JSON (Caused by NameResolutionError(\"<urllib3.connection.HTTPSConnection object at 0x0000028DE578CC20>: Failed to resolve 'www.whoisxmlapi.com' ([Errno 11001] getaddrinfo failed)\"))\n",
      "WHOIS API error for goodmart24.ru (attempt 3): HTTPSConnectionPool(host='www.whoisxmlapi.com', port=443): Max retries exceeded with url: /whoisserver/WhoisService?apiKey=32850693e79c4e1291e441e8f4d09707&domainName=goodmart24.ru&outputFormat=JSON (Caused by NameResolutionError(\"<urllib3.connection.HTTPSConnection object at 0x0000028DE5726C00>: Failed to resolve 'www.whoisxmlapi.com' ([Errno 11001] getaddrinfo failed)\"))\n",
      "WHOIS API error for liberal.hr (attempt 3): HTTPSConnectionPool(host='www.whoisxmlapi.com', port=443): Max retries exceeded with url: /whoisserver/WhoisService?apiKey=32850693e79c4e1291e441e8f4d09707&domainName=liberal.hr&outputFormat=JSON (Caused by NameResolutionError(\"<urllib3.connection.HTTPSConnection object at 0x0000028DE57242F0>: Failed to resolve 'www.whoisxmlapi.com' ([Errno 11001] getaddrinfo failed)\"))\n",
      "WHOIS API error for alshokri.com (attempt 3): HTTPSConnectionPool(host='www.whoisxmlapi.com', port=443): Max retries exceeded with url: /whoisserver/WhoisService?apiKey=32850693e79c4e1291e441e8f4d09707&domainName=alshokri.com&outputFormat=JSON (Caused by NameResolutionError(\"<urllib3.connection.HTTPSConnection object at 0x0000028DE5724E60>: Failed to resolve 'www.whoisxmlapi.com' ([Errno 11001] getaddrinfo failed)\"))\n",
      "WHOIS API error for flhsmvtx.win (attempt 3): HTTPSConnectionPool(host='www.whoisxmlapi.com', port=443): Max retries exceeded with url: /whoisserver/WhoisService?apiKey=32850693e79c4e1291e441e8f4d09707&domainName=flhsmvtx.win&outputFormat=JSON (Caused by NameResolutionError(\"<urllib3.connection.HTTPSConnection object at 0x0000028DE5725F70>: Failed to resolve 'www.whoisxmlapi.com' ([Errno 11001] getaddrinfo failed)\"))\n",
      "WHOIS API error for pornoboard.net (attempt 3): HTTPSConnectionPool(host='www.whoisxmlapi.com', port=443): Max retries exceeded with url: /whoisserver/WhoisService?apiKey=32850693e79c4e1291e441e8f4d09707&domainName=pornoboard.net&outputFormat=JSON (Caused by NameResolutionError(\"<urllib3.connection.HTTPSConnection object at 0x0000028DE5726330>: Failed to resolve 'www.whoisxmlapi.com' ([Errno 11001] getaddrinfo failed)\"))\n",
      "WHOIS API error for sdlproducts.com (attempt 3): HTTPSConnectionPool(host='www.whoisxmlapi.com', port=443): Max retries exceeded with url: /whoisserver/WhoisService?apiKey=32850693e79c4e1291e441e8f4d09707&domainName=sdlproducts.com&outputFormat=JSON (Caused by NameResolutionError(\"<urllib3.connection.HTTPSConnection object at 0x0000028DE5725280>: Failed to resolve 'www.whoisxmlapi.com' ([Errno 11001] getaddrinfo failed)\"))\n",
      "WHOIS API error for tinbatdongsan.com (attempt 3): HTTPSConnectionPool(host='www.whoisxmlapi.com', port=443): Max retries exceeded with url: /whoisserver/WhoisService?apiKey=32850693e79c4e1291e441e8f4d09707&domainName=tinbatdongsan.com&outputFormat=JSON (Caused by NameResolutionError(\"<urllib3.connection.HTTPSConnection object at 0x0000028DE577B0E0>: Failed to resolve 'www.whoisxmlapi.com' ([Errno 11001] getaddrinfo failed)\"))\n",
      "WHOIS API error for avast-anti-virus.ru (attempt 1): HTTPSConnectionPool(host='www.whoisxmlapi.com', port=443): Max retries exceeded with url: /whoisserver/WhoisService?apiKey=32850693e79c4e1291e441e8f4d09707&domainName=avast-anti-virus.ru&outputFormat=JSON (Caused by NameResolutionError(\"<urllib3.connection.HTTPSConnection object at 0x0000028DE5724770>: Failed to resolve 'www.whoisxmlapi.com' ([Errno 11001] getaddrinfo failed)\"))\n",
      "WHOIS API error for sibforms.com (attempt 1): HTTPSConnectionPool(host='www.whoisxmlapi.com', port=443): Max retries exceeded with url: /whoisserver/WhoisService?apiKey=32850693e79c4e1291e441e8f4d09707&domainName=sibforms.com&outputFormat=JSON (Caused by NameResolutionError(\"<urllib3.connection.HTTPSConnection object at 0x0000028DE5724D10>: Failed to resolve 'www.whoisxmlapi.com' ([Errno 11001] getaddrinfo failed)\"))\n",
      "WHOIS API error for kaoyan365.cn (attempt 1): HTTPSConnectionPool(host='www.whoisxmlapi.com', port=443): Max retries exceeded with url: /whoisserver/WhoisService?apiKey=32850693e79c4e1291e441e8f4d09707&domainName=kaoyan365.cn&outputFormat=JSON (Caused by NameResolutionError(\"<urllib3.connection.HTTPSConnection object at 0x0000028DE57C0E00>: Failed to resolve 'www.whoisxmlapi.com' ([Errno 11001] getaddrinfo failed)\"))\n",
      "WHOIS API error for torfile.org (attempt 1): HTTPSConnectionPool(host='www.whoisxmlapi.com', port=443): Max retries exceeded with url: /whoisserver/WhoisService?apiKey=32850693e79c4e1291e441e8f4d09707&domainName=torfile.org&outputFormat=JSON (Caused by NameResolutionError(\"<urllib3.connection.HTTPSConnection object at 0x0000028DE57D9940>: Failed to resolve 'www.whoisxmlapi.com' ([Errno 11001] getaddrinfo failed)\"))\n",
      "WHOIS API error for clionenoakari.com (attempt 1): HTTPSConnectionPool(host='www.whoisxmlapi.com', port=443): Max retries exceeded with url: /whoisserver/WhoisService?apiKey=32850693e79c4e1291e441e8f4d09707&domainName=clionenoakari.com&outputFormat=JSON (Caused by NameResolutionError(\"<urllib3.connection.HTTPSConnection object at 0x0000028DE57DAC30>: Failed to resolve 'www.whoisxmlapi.com' ([Errno 11001] getaddrinfo failed)\"))\n",
      "WHOIS API error for yazsys.com (attempt 1): HTTPSConnectionPool(host='www.whoisxmlapi.com', port=443): Max retries exceeded with url: /whoisserver/WhoisService?apiKey=32850693e79c4e1291e441e8f4d09707&domainName=yazsys.com&outputFormat=JSON (Caused by NameResolutionError(\"<urllib3.connection.HTTPSConnection object at 0x0000028DE57DA840>: Failed to resolve 'www.whoisxmlapi.com' ([Errno 11001] getaddrinfo failed)\"))\n",
      "WHOIS API error for ecq.sc (attempt 1): HTTPSConnectionPool(host='www.whoisxmlapi.com', port=443): Max retries exceeded with url: /whoisserver/WhoisService?apiKey=32850693e79c4e1291e441e8f4d09707&domainName=ecq.sc&outputFormat=JSON (Caused by NameResolutionError(\"<urllib3.connection.HTTPSConnection object at 0x0000028DE57D8200>: Failed to resolve 'www.whoisxmlapi.com' ([Errno 11001] getaddrinfo failed)\"))\n",
      "WHOIS API error for al3ilm9owa.com (attempt 3): HTTPSConnectionPool(host='www.whoisxmlapi.com', port=443): Max retries exceeded with url: /whoisserver/WhoisService?apiKey=32850693e79c4e1291e441e8f4d09707&domainName=al3ilm9owa.com&outputFormat=JSON (Caused by NameResolutionError(\"<urllib3.connection.HTTPSConnection object at 0x0000028DE5778A40>: Failed to resolve 'www.whoisxmlapi.com' ([Errno 11001] getaddrinfo failed)\"))\n",
      "WHOIS API error for vitafy.de (attempt 3): HTTPSConnectionPool(host='www.whoisxmlapi.com', port=443): Max retries exceeded with url: /whoisserver/WhoisService?apiKey=32850693e79c4e1291e441e8f4d09707&domainName=vitafy.de&outputFormat=JSON (Caused by NameResolutionError(\"<urllib3.connection.HTTPSConnection object at 0x0000028DE57780E0>: Failed to resolve 'www.whoisxmlapi.com' ([Errno 11001] getaddrinfo failed)\"))\n",
      "WHOIS API error for trungduc.net (attempt 3): HTTPSConnectionPool(host='www.whoisxmlapi.com', port=443): Max retries exceeded with url: /whoisserver/WhoisService?apiKey=32850693e79c4e1291e441e8f4d09707&domainName=trungduc.net&outputFormat=JSON (Caused by NameResolutionError(\"<urllib3.connection.HTTPSConnection object at 0x0000028DE577AD20>: Failed to resolve 'www.whoisxmlapi.com' ([Errno 11001] getaddrinfo failed)\"))\n",
      "WHOIS API error for csdo967.com (attempt 1): HTTPSConnectionPool(host='www.whoisxmlapi.com', port=443): Max retries exceeded with url: /whoisserver/WhoisService?apiKey=32850693e79c4e1291e441e8f4d09707&domainName=csdo967.com&outputFormat=JSON (Caused by NameResolutionError(\"<urllib3.connection.HTTPSConnection object at 0x0000028DE575D220>: Failed to resolve 'www.whoisxmlapi.com' ([Errno 11001] getaddrinfo failed)\"))\n",
      "WHOIS API error for fm-p.jp (attempt 1): HTTPSConnectionPool(host='www.whoisxmlapi.com', port=443): Max retries exceeded with url: /whoisserver/WhoisService?apiKey=32850693e79c4e1291e441e8f4d09707&domainName=fm-p.jp&outputFormat=JSON (Caused by NameResolutionError(\"<urllib3.connection.HTTPSConnection object at 0x0000028DE57791C0>: Failed to resolve 'www.whoisxmlapi.com' ([Errno 11001] getaddrinfo failed)\"))\n",
      "WHOIS API error for constance.com.br (attempt 1): HTTPSConnectionPool(host='www.whoisxmlapi.com', port=443): Max retries exceeded with url: /whoisserver/WhoisService?apiKey=32850693e79c4e1291e441e8f4d09707&domainName=constance.com.br&outputFormat=JSON (Caused by NameResolutionError(\"<urllib3.connection.HTTPSConnection object at 0x0000028DE5778680>: Failed to resolve 'www.whoisxmlapi.com' ([Errno 11001] getaddrinfo failed)\"))\n"
     ]
    },
    {
     "name": "stderr",
     "output_type": "stream",
     "text": [
      "WHOIS batches:  54%|█████▎    | 618/1154 [2:36:51<18:01:56, 121.11s/it]  "
     ]
    },
    {
     "name": "stdout",
     "output_type": "stream",
     "text": [
      "WHOIS API error for expoart.co (attempt 1): Expecting value: line 1 column 1 (char 0)\n"
     ]
    },
    {
     "name": "stderr",
     "output_type": "stream",
     "text": [
      "WHOIS batches:  67%|██████▋   | 774/1154 [2:56:45<53:18,  8.42s/it]    "
     ]
    },
    {
     "name": "stdout",
     "output_type": "stream",
     "text": [
      "WHOIS API error for vod50.com (attempt 1): Expecting value: line 1 column 1 (char 0)\n"
     ]
    },
    {
     "name": "stderr",
     "output_type": "stream",
     "text": [
      "WHOIS batches:  93%|█████████▎| 1078/1154 [3:33:49<06:41,  5.28s/it] "
     ]
    },
    {
     "name": "stdout",
     "output_type": "stream",
     "text": [
      "WHOIS API error for csi-spa.com (attempt 1): HTTPSConnectionPool(host='www.whoisxmlapi.com', port=443): Max retries exceeded with url: /whoisserver/WhoisService?apiKey=32850693e79c4e1291e441e8f4d09707&domainName=csi-spa.com&outputFormat=JSON (Caused by SSLError(SSLEOFError(8, '[SSL: UNEXPECTED_EOF_WHILE_READING] EOF occurred in violation of protocol (_ssl.c:1000)')))\n",
      "WHOIS API error for xn--eck3a9bu7culz704abt8c.com (attempt 1): HTTPSConnectionPool(host='www.whoisxmlapi.com', port=443): Max retries exceeded with url: /whoisserver/WhoisService?apiKey=32850693e79c4e1291e441e8f4d09707&domainName=xn--eck3a9bu7culz704abt8c.com&outputFormat=JSON (Caused by SSLError(SSLEOFError(8, '[SSL: UNEXPECTED_EOF_WHILE_READING] EOF occurred in violation of protocol (_ssl.c:1000)')))\n",
      "WHOIS API error for ea1785.org (attempt 1): HTTPSConnectionPool(host='www.whoisxmlapi.com', port=443): Max retries exceeded with url: /whoisserver/WhoisService?apiKey=32850693e79c4e1291e441e8f4d09707&domainName=ea1785.org&outputFormat=JSON (Caused by SSLError(SSLEOFError(8, '[SSL: UNEXPECTED_EOF_WHILE_READING] EOF occurred in violation of protocol (_ssl.c:1000)')))\n",
      "WHOIS API error for selectour.com (attempt 1): HTTPSConnectionPool(host='www.whoisxmlapi.com', port=443): Max retries exceeded with url: /whoisserver/WhoisService?apiKey=32850693e79c4e1291e441e8f4d09707&domainName=selectour.com&outputFormat=JSON (Caused by SSLError(SSLEOFError(8, '[SSL: UNEXPECTED_EOF_WHILE_READING] EOF occurred in violation of protocol (_ssl.c:1000)')))\n",
      "WHOIS API error for lavandadecor.ru (attempt 1): HTTPSConnectionPool(host='www.whoisxmlapi.com', port=443): Max retries exceeded with url: /whoisserver/WhoisService?apiKey=32850693e79c4e1291e441e8f4d09707&domainName=lavandadecor.ru&outputFormat=JSON (Caused by SSLError(SSLEOFError(8, '[SSL: UNEXPECTED_EOF_WHILE_READING] EOF occurred in violation of protocol (_ssl.c:1000)')))\n",
      "WHOIS API error for vitakem.com (attempt 1): HTTPSConnectionPool(host='www.whoisxmlapi.com', port=443): Max retries exceeded with url: /whoisserver/WhoisService?apiKey=32850693e79c4e1291e441e8f4d09707&domainName=vitakem.com&outputFormat=JSON (Caused by SSLError(SSLEOFError(8, '[SSL: UNEXPECTED_EOF_WHILE_READING] EOF occurred in violation of protocol (_ssl.c:1000)')))\n"
     ]
    },
    {
     "name": "stderr",
     "output_type": "stream",
     "text": [
      "WHOIS batches: 100%|██████████| 1154/1154 [3:48:23<00:00, 11.87s/it]  \n"
     ]
    },
    {
     "name": "stdout",
     "output_type": "stream",
     "text": [
      "\n",
      "Step 4: Combining results...\n"
     ]
    },
    {
     "name": "stderr",
     "output_type": "stream",
     "text": [
      "Finalizing features: 100%|██████████| 105062/105062 [00:00<00:00, 425906.44it/s]\n"
     ]
    },
    {
     "name": "stdout",
     "output_type": "stream",
     "text": [
      "\n",
      "Step 5: Saving results...\n",
      "\n",
      "Features extracted and saved to: C:\\prateek\\projects\\linkload\\backend\\ml_models\\phishing_detection\\data\\phishing_dataset_with_features.csv\n",
      "Processed 105062 URLs\n",
      "Used 57684 unique domains for WHOIS\n",
      "Cache hits - WHOIS: 57684, DNS: 78979\n",
      "\n",
      "Feature columns: ['url_length', 'hostname_length', 'path_length', 'num_dots', 'num_hyphens', 'has_at_symbol', 'has_double_slash', 'has_ip_address', 'has_https', 'count_www', 'count_subdomain', 'first_dir_length', 'has_php_or_html', 'url', 'dns_resolves', 'label', 'whois_registered']\n",
      "Dataset shape: (105062, 17)\n"
     ]
    }
   ],
   "source": [
    "import pandas as pd\n",
    "import re\n",
    "import tldextract\n",
    "import requests\n",
    "import os\n",
    "from urllib.parse import urlparse\n",
    "import socket\n",
    "from dotenv import load_dotenv\n",
    "from tqdm import tqdm\n",
    "import time\n",
    "from concurrent.futures import ThreadPoolExecutor, as_completed\n",
    "from collections import defaultdict\n",
    "\n",
    "# === Load API Keys ===\n",
    "load_dotenv()\n",
    "WHOIS_API_KEY = os.getenv(\"WHOIS_API_KEY\")\n",
    "\n",
    "# === Paths ===\n",
    "INPUT_FILE = r\"C:\\prateek\\projects\\linkload\\backend\\ml_models\\phishing_detection\\data\\labeled_url_dataset.csv\"\n",
    "OUTPUT_FILE = r\"C:\\prateek\\projects\\linkload\\backend\\ml_models\\phishing_detection\\data\\phishing_dataset_with_features.csv\"\n",
    "\n",
    "# === Global Cache for WHOIS Results ===\n",
    "whois_cache = {}\n",
    "dns_cache = {}\n",
    "\n",
    "# === Configuration ===\n",
    "SKIP_WHOIS = False  # Set to True to skip WHOIS API calls for faster testing\n",
    "SKIP_DNS = False    # Set to True to skip DNS lookups for faster testing\n",
    "MAX_WORKERS = 10    # Number of concurrent threads for WHOIS API calls\n",
    "BATCH_SIZE = 50     # Number of domains to process in each batch\n",
    "\n",
    "# === WHOIS Helper with Retry & Rate Limit Handling ===\n",
    "def is_domain_registered(domain, max_retries=3):\n",
    "    # Check cache first\n",
    "    if domain in whois_cache:\n",
    "        return whois_cache[domain]\n",
    "    \n",
    "    for attempt in range(max_retries):\n",
    "        try:\n",
    "            url = (\n",
    "                f\"https://www.whoisxmlapi.com/whoisserver/WhoisService\"\n",
    "                f\"?apiKey={WHOIS_API_KEY}&domainName={domain}&outputFormat=JSON\"\n",
    "            )\n",
    "            response = requests.get(url, timeout=30)\n",
    "            \n",
    "            if response.status_code == 429:  # Too Many Requests\n",
    "                print(f\"Rate limited, waiting to retry {domain}...\")\n",
    "                time.sleep(1)\n",
    "                continue\n",
    "                \n",
    "            data = response.json()\n",
    "            result = 1 if \"WhoisRecord\" in data and data[\"WhoisRecord\"].get(\"createdDate\") else 0\n",
    "            \n",
    "            # Cache the result\n",
    "            whois_cache[domain] = result\n",
    "            return result\n",
    "            \n",
    "        except Exception as e:\n",
    "            print(f\"WHOIS API error for {domain} (attempt {attempt+1}): {e}\")\n",
    "            if attempt < max_retries - 1:\n",
    "                time.sleep(5)\n",
    "    \n",
    "    # Cache failed result as 0\n",
    "    whois_cache[domain] = 0\n",
    "    return 0\n",
    "\n",
    "# === DNS Helper with Caching ===\n",
    "def check_dns_resolves(hostname):\n",
    "    # Check cache first\n",
    "    if hostname in dns_cache:\n",
    "        return dns_cache[hostname]\n",
    "    \n",
    "    try:\n",
    "        socket.gethostbyname(hostname)\n",
    "        dns_cache[hostname] = 1\n",
    "        return 1\n",
    "    except:\n",
    "        dns_cache[hostname] = 0\n",
    "        return 0\n",
    "\n",
    "# === Feature Extraction (Fast Operations Only) ===\n",
    "def extract_fast_features(url):\n",
    "    features = {}\n",
    "    try:\n",
    "        parsed = urlparse(url)\n",
    "        hostname = parsed.hostname or \"\"\n",
    "        domain_data = tldextract.extract(url)\n",
    "        domain = domain_data.domain + '.' + domain_data.suffix\n",
    "\n",
    "        # URL-based features (fast operations)\n",
    "        features[\"url_length\"] = len(url)\n",
    "        features[\"hostname_length\"] = len(hostname)\n",
    "        features[\"path_length\"] = len(parsed.path)\n",
    "        features[\"num_dots\"] = url.count(\".\")\n",
    "        features[\"num_hyphens\"] = url.count(\"-\")\n",
    "        features[\"has_at_symbol\"] = \"@\" in url\n",
    "        features[\"has_double_slash\"] = '//' in url[8:]\n",
    "        features[\"has_ip_address\"] = 1 if re.match(r\"(?:\\d{1,3}\\.){3}\\d{1,3}\", hostname) else 0\n",
    "        features[\"has_https\"] = 1 if parsed.scheme == \"https\" else 0\n",
    "        features[\"count_www\"] = url.count(\"www\")\n",
    "        features[\"count_subdomain\"] = len(domain_data.subdomain.split(\".\")) if domain_data.subdomain else 0\n",
    "        features[\"first_dir_length\"] = len(parsed.path.split(\"/\")[1]) if len(parsed.path.split(\"/\")) > 1 else 0\n",
    "        features[\"has_php_or_html\"] = int(\".php\" in url or \".html\" in url or \".htm\" in url)\n",
    "\n",
    "        # Store for later processing\n",
    "        features[\"hostname\"] = hostname\n",
    "        features[\"domain\"] = domain\n",
    "        features[\"url\"] = url\n",
    "\n",
    "        # DNS-based feature (if not skipped)\n",
    "        if not SKIP_DNS:\n",
    "            features[\"dns_resolves\"] = check_dns_resolves(hostname)\n",
    "        else:\n",
    "            features[\"dns_resolves\"] = 1  # Default value\n",
    "\n",
    "    except Exception as e:\n",
    "        print(f\"[ERROR] Failed to extract fast features from: {url} | {e}\")\n",
    "        return None\n",
    "\n",
    "    return features\n",
    "\n",
    "# === Batch WHOIS Processing ===\n",
    "def process_whois_for_domains(unique_domains):\n",
    "    \"\"\"Process WHOIS for a list of unique domains\"\"\"\n",
    "    results = {}\n",
    "    \n",
    "    for domain in tqdm(unique_domains, desc=\"WHOIS lookups\"):\n",
    "        if not SKIP_WHOIS:\n",
    "            results[domain] = is_domain_registered(domain)\n",
    "        else:\n",
    "            results[domain] = 0  # Default value\n",
    "        \n",
    "        # Small delay to respect rate limits\n",
    "        time.sleep(0.02)  # 50 requests per second max\n",
    "    \n",
    "    return results\n",
    "\n",
    "# === Domain Deduplication ===\n",
    "def deduplicate_by_domain(df):\n",
    "    \"\"\"Group URLs by domain to minimize API calls\"\"\"\n",
    "    print(\"Analyzing domain distribution...\")\n",
    "    \n",
    "    # Extract domains for all URLs\n",
    "    df['extracted_domain'] = df['url'].apply(lambda x: tldextract.extract(x).registered_domain)\n",
    "    \n",
    "    # Count URLs per domain\n",
    "    domain_counts = df['extracted_domain'].value_counts()\n",
    "    print(f\"Total unique domains: {len(domain_counts)}\")\n",
    "    print(f\"Total URLs: {len(df)}\")\n",
    "    print(f\"Average URLs per domain: {len(df) / len(domain_counts):.2f}\")\n",
    "    \n",
    "    return df\n",
    "\n",
    "# === Threaded WHOIS Processing ===\n",
    "def process_whois_batch_threaded(domain_batch):\n",
    "    \"\"\"Process a batch of domains with WHOIS API calls\"\"\"\n",
    "    results = {}\n",
    "    for domain in domain_batch:\n",
    "        if not SKIP_WHOIS:\n",
    "            results[domain] = is_domain_registered(domain)\n",
    "        else:\n",
    "            results[domain] = 0\n",
    "        time.sleep(0.02)  # Rate limiting\n",
    "    return results\n",
    "\n",
    "# === Main Processing ===\n",
    "if __name__ == \"__main__\":\n",
    "    print(\"Loading dataset...\")\n",
    "    df = pd.read_csv(INPUT_FILE)\n",
    "    df = df.dropna(subset=[\"url\", \"label\"])\n",
    "    print(f\"Loaded {len(df)} URLs\")\n",
    "\n",
    "    # Deduplicate analysis\n",
    "    df = deduplicate_by_domain(df)\n",
    "\n",
    "    # Step 1: Extract fast features for all URLs\n",
    "    print(\"\\nStep 1: Extracting fast features...\")\n",
    "    feature_rows = []\n",
    "    \n",
    "    for _, row in tqdm(df.iterrows(), total=len(df), desc=\"Fast features\"):\n",
    "        feats = extract_fast_features(row[\"url\"])\n",
    "        if feats:\n",
    "            feats[\"label\"] = row[\"label\"]\n",
    "            feature_rows.append(feats)\n",
    "\n",
    "    print(f\"Extracted fast features for {len(feature_rows)} URLs\")\n",
    "\n",
    "    # Step 2: Get unique domains for WHOIS processing\n",
    "    unique_domains = list(set([feat[\"domain\"] for feat in feature_rows if feat[\"domain\"]]))\n",
    "    print(f\"\\nStep 2: Found {len(unique_domains)} unique domains for WHOIS lookup\")\n",
    "\n",
    "    # Step 3: Process WHOIS in parallel batches\n",
    "    whois_results = {}\n",
    "    \n",
    "    if not SKIP_WHOIS and unique_domains:\n",
    "        print(\"Processing WHOIS API calls in parallel...\")\n",
    "        \n",
    "        # Create batches of domains\n",
    "        domain_batches = [unique_domains[i:i + BATCH_SIZE] for i in range(0, len(unique_domains), BATCH_SIZE)]\n",
    "        \n",
    "        with ThreadPoolExecutor(max_workers=MAX_WORKERS) as executor:\n",
    "            # Submit batches to thread pool\n",
    "            future_to_batch = {\n",
    "                executor.submit(process_whois_batch_threaded, batch): batch \n",
    "                for batch in domain_batches\n",
    "            }\n",
    "            \n",
    "            # Collect results with progress bar\n",
    "            for future in tqdm(as_completed(future_to_batch), total=len(domain_batches), desc=\"WHOIS batches\"):\n",
    "                batch_result = future.result()\n",
    "                whois_results.update(batch_result)\n",
    "                time.sleep(0.1)  # Small delay between batches\n",
    "    else:\n",
    "        # Skip WHOIS - set all to default value\n",
    "        whois_results = {domain: 0 for domain in unique_domains}\n",
    "\n",
    "    # Step 4: Combine results\n",
    "    print(\"\\nStep 4: Combining results...\")\n",
    "    final_features = []\n",
    "    \n",
    "    for features in tqdm(feature_rows, desc=\"Finalizing features\"):\n",
    "        # Add WHOIS result\n",
    "        domain = features[\"domain\"]\n",
    "        features[\"whois_registered\"] = whois_results.get(domain, 0)\n",
    "        \n",
    "        # Clean up temporary fields\n",
    "        del features[\"domain\"]\n",
    "        del features[\"hostname\"]\n",
    "        \n",
    "        final_features.append(features)\n",
    "\n",
    "    # Step 5: Save results\n",
    "    print(\"\\nStep 5: Saving results...\")\n",
    "    feature_df = pd.DataFrame(final_features)\n",
    "    feature_df.to_csv(OUTPUT_FILE, index=False)\n",
    "    \n",
    "    print(f\"\\nFeatures extracted and saved to: {OUTPUT_FILE}\")\n",
    "    print(f\"Processed {len(final_features)} URLs\")\n",
    "    print(f\"Used {len(whois_results)} unique domains for WHOIS\")\n",
    "    print(f\"Cache hits - WHOIS: {len(whois_cache)}, DNS: {len(dns_cache)}\")\n",
    "    \n",
    "    # Display feature summary\n",
    "    print(f\"\\nFeature columns: {list(feature_df.columns)}\")\n",
    "    print(f\"Dataset shape: {feature_df.shape}\")\n"
   ]
  }
 ],
 "metadata": {
  "kernelspec": {
   "display_name": "Python 3",
   "language": "python",
   "name": "python3"
  },
  "language_info": {
   "codemirror_mode": {
    "name": "ipython",
    "version": 3
   },
   "file_extension": ".py",
   "mimetype": "text/x-python",
   "name": "python",
   "nbconvert_exporter": "python",
   "pygments_lexer": "ipython3",
   "version": "3.12.2"
  }
 },
 "nbformat": 4,
 "nbformat_minor": 5
}
