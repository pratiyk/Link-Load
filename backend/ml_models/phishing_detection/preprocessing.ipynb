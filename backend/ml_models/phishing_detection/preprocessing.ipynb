{
 "cells": [
  {
   "cell_type": "markdown",
   "id": "e907291a",
   "metadata": {},
   "source": [
    "# Preprocessing"
   ]
  },
  {
   "cell_type": "code",
   "execution_count": 1,
   "id": "8137b531",
   "metadata": {},
   "outputs": [
    {
     "name": "stdout",
     "output_type": "stream",
     "text": [
      "Requirement already satisfied: pandas in c:\\users\\sendt\\appdata\\roaming\\python\\python312\\site-packages (2.2.2)\n",
      "Requirement already satisfied: scikit-learn in c:\\python312\\lib\\site-packages (1.5.0)\n",
      "Requirement already satisfied: numpy>=1.26.0 in c:\\users\\sendt\\appdata\\roaming\\python\\python312\\site-packages (from pandas) (1.26.4)\n",
      "Requirement already satisfied: python-dateutil>=2.8.2 in c:\\users\\sendt\\appdata\\roaming\\python\\python312\\site-packages (from pandas) (2.9.0.post0)\n",
      "Requirement already satisfied: pytz>=2020.1 in c:\\users\\sendt\\appdata\\roaming\\python\\python312\\site-packages (from pandas) (2024.1)\n",
      "Requirement already satisfied: tzdata>=2022.7 in c:\\python312\\lib\\site-packages (from pandas) (2025.2)\n",
      "Requirement already satisfied: scipy>=1.6.0 in c:\\python312\\lib\\site-packages (from scikit-learn) (1.13.1)\n",
      "Requirement already satisfied: joblib>=1.2.0 in c:\\python312\\lib\\site-packages (from scikit-learn) (1.4.2)\n",
      "Requirement already satisfied: threadpoolctl>=3.1.0 in c:\\python312\\lib\\site-packages (from scikit-learn) (3.5.0)\n",
      "Requirement already satisfied: six>=1.5 in c:\\python312\\lib\\site-packages (from python-dateutil>=2.8.2->pandas) (1.16.0)\n",
      "Note: you may need to restart the kernel to use updated packages.\n"
     ]
    },
    {
     "name": "stderr",
     "output_type": "stream",
     "text": [
      "WARNING: Ignoring invalid distribution ~ip (c:\\Python312\\Lib\\site-packages)\n",
      "DEPRECATION: Loading egg at c:\\python312\\lib\\site-packages\\vboxapi-1.0-py3.12.egg is deprecated. pip 25.1 will enforce this behaviour change. A possible replacement is to use pip for package installation. Discussion can be found at https://github.com/pypa/pip/issues/12330\n",
      "WARNING: Ignoring invalid distribution ~ip (c:\\Python312\\Lib\\site-packages)\n",
      "WARNING: Ignoring invalid distribution ~ip (c:\\Python312\\Lib\\site-packages)\n",
      "\n",
      "[notice] A new release of pip is available: 24.3.1 -> 25.1.1\n",
      "[notice] To update, run: python.exe -m pip install --upgrade pip\n"
     ]
    }
   ],
   "source": [
    "pip install pandas scikit-learn"
   ]
  },
  {
   "cell_type": "code",
   "execution_count": 6,
   "id": "a2a0517b",
   "metadata": {},
   "outputs": [
    {
     "name": "stdout",
     "output_type": "stream",
     "text": [
      "Loading PhishTank data from: C:\\prateek\\projects\\linkload\\backend\\ml_models\\phishing_detection\\data\\phishtank\\phishtank_urls.csv\n",
      "Loading Alexa data from: C:\\prateek\\projects\\linkload\\backend\\ml_models\\phishing_detection\\data\\alexa\\top-1m.csv\n",
      "\n",
      "Dataset saved to: C:\\prateek\\projects\\linkload\\backend\\ml_models\\phishing_detection\\data\\labeled_url_dataset.csv\n",
      "\n",
      "First 5 rows:\n",
      "                                               url  label\n",
      "0                            http://rhinoshield.io      0\n",
      "1                       http://sportstemplates.net      0\n",
      "2                         http://nihongonomori.com      0\n",
      "3  https://qrcodeveloper.com/code/YcvCiqwlVbd19JwV      1\n",
      "4                                  http://voxus.tv      0\n"
     ]
    }
   ],
   "source": [
    "import pandas as pd\n",
    "import os\n",
    "\n",
    "# Define base directory\n",
    "base_dir = r\"C:\\prateek\\projects\\linkload\\backend\\ml_models\\phishing_detection\"\n",
    "\n",
    "# Construct absolute paths\n",
    "phishtank_path = os.path.join(base_dir, r\"data\\phishtank\\phishtank_urls.csv\")\n",
    "alexa_path = os.path.join(base_dir, r\"data\\alexa\\top-1m.csv\")\n",
    "output_path = os.path.join(base_dir, r\"data\\labeled_url_dataset.csv\")\n",
    "\n",
    "print(f\"Loading PhishTank data from: {phishtank_path}\")\n",
    "print(f\"Loading Alexa data from: {alexa_path}\")\n",
    "\n",
    "# Load datasets\n",
    "phishtank_df = pd.read_csv(phishtank_path)\n",
    "alexa_df = pd.read_csv(alexa_path, header=None, names=[\"rank\", \"domain\"])\n",
    "\n",
    "# Clean and prepare PhishTank (malicious)\n",
    "phishtank_df = phishtank_df.dropna(subset=[\"url\"])\n",
    "phishtank_df[\"url\"] = phishtank_df[\"url\"].astype(str).str.strip()\n",
    "phishtank_df[\"label\"] = 1\n",
    "\n",
    "# Clean and prepare Alexa (benign)\n",
    "alexa_df[\"url\"] = \"http://\" + alexa_df[\"domain\"]\n",
    "alexa_df[\"label\"] = 0\n",
    "\n",
    "# Balance datasets\n",
    "phishtank_sample = phishtank_df[[\"url\", \"label\"]]\n",
    "alexa_sample = alexa_df[[\"url\", \"label\"]].sample(n=len(phishtank_sample), random_state=42)\n",
    "\n",
    "# Combine and shuffle\n",
    "combined_df = pd.concat([phishtank_sample, alexa_sample], ignore_index=True)\n",
    "combined_df = combined_df.sample(frac=1, random_state=42).reset_index(drop=True)\n",
    "\n",
    "# Save for training\n",
    "combined_df.to_csv(output_path, index=False)\n",
    "print(f\"\\nDataset saved to: {output_path}\")\n",
    "print(f\"\\nFirst 5 rows:\")\n",
    "print(combined_df.head())"
   ]
  }
 ],
 "metadata": {
  "kernelspec": {
   "display_name": "Python 3",
   "language": "python",
   "name": "python3"
  },
  "language_info": {
   "codemirror_mode": {
    "name": "ipython",
    "version": 3
   },
   "file_extension": ".py",
   "mimetype": "text/x-python",
   "name": "python",
   "nbconvert_exporter": "python",
   "pygments_lexer": "ipython3",
   "version": "3.12.2"
  }
 },
 "nbformat": 4,
 "nbformat_minor": 5
}
